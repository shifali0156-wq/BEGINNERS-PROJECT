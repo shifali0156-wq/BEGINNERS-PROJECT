{
  "cells": [
    {
      "cell_type": "markdown",
      "metadata": {
        "id": "view-in-github",
        "colab_type": "text"
      },
      "source": [
        "<a href=\"https://colab.research.google.com/github/shifali0156-wq/BEGINNERS-PROJECT/blob/main/movie_recommender.ipynb\" target=\"_parent\"><img src=\"https://colab.research.google.com/assets/colab-badge.svg\" alt=\"Open In Colab\"/></a>"
      ]
    },
    {
      "cell_type": "code",
      "execution_count": 1,
      "metadata": {
        "id": "5g2eyZkNE0Fo"
      },
      "outputs": [],
      "source": [
        "import pandas as pd, numpy as np"
      ]
    },
    {
      "cell_type": "code",
      "execution_count": 2,
      "metadata": {
        "id": "b-2QjSEnFJZP"
      },
      "outputs": [],
      "source": [
        "credit=pd.read_csv(\"tmdb_5000_credits.csv\", engine='python')"
      ]
    },
    {
      "cell_type": "code",
      "execution_count": 3,
      "metadata": {
        "id": "eBt-hHFqmt_j"
      },
      "outputs": [],
      "source": [
        "movie=pd.read_csv(\"tmdb_5000_movies.csv\", engine='python')"
      ]
    },
    {
      "cell_type": "code",
      "execution_count": 4,
      "metadata": {
        "id": "95aZPBAvnFyq"
      },
      "outputs": [],
      "source": [
        "movie[\"movie_id\"]=movie.id"
      ]
    },
    {
      "cell_type": "code",
      "execution_count": 5,
      "metadata": {
        "id": "3_-8PrRvnOSi"
      },
      "outputs": [],
      "source": [
        "movie.drop(\"id\", axis=1, inplace=True)"
      ]
    },
    {
      "cell_type": "code",
      "execution_count": 6,
      "metadata": {
        "id": "onDadSDUmxbz"
      },
      "outputs": [],
      "source": [
        "data=movie.merge(credit, on='movie_id')"
      ]
    },
    {
      "cell_type": "code",
      "execution_count": 7,
      "metadata": {
        "colab": {
          "base_uri": "https://localhost:8080/"
        },
        "id": "wgrkHGUam-ND",
        "outputId": "aac54b76-932f-41b6-a9a5-eaee8fbb45d8"
      },
      "outputs": [
        {
          "output_type": "stream",
          "name": "stdout",
          "text": [
            "<class 'pandas.core.frame.DataFrame'>\n",
            "RangeIndex: 4803 entries, 0 to 4802\n",
            "Data columns (total 23 columns):\n",
            " #   Column                Non-Null Count  Dtype  \n",
            "---  ------                --------------  -----  \n",
            " 0   budget                4803 non-null   int64  \n",
            " 1   genres                4803 non-null   object \n",
            " 2   homepage              1712 non-null   object \n",
            " 3   keywords              4803 non-null   object \n",
            " 4   original_language     4803 non-null   object \n",
            " 5   original_title        4803 non-null   object \n",
            " 6   overview              4800 non-null   object \n",
            " 7   popularity            4803 non-null   float64\n",
            " 8   production_companies  4803 non-null   object \n",
            " 9   production_countries  4803 non-null   object \n",
            " 10  release_date          4802 non-null   object \n",
            " 11  revenue               4803 non-null   int64  \n",
            " 12  runtime               4801 non-null   float64\n",
            " 13  spoken_languages      4803 non-null   object \n",
            " 14  status                4803 non-null   object \n",
            " 15  tagline               3959 non-null   object \n",
            " 16  title_x               4803 non-null   object \n",
            " 17  vote_average          4803 non-null   float64\n",
            " 18  vote_count            4803 non-null   int64  \n",
            " 19  movie_id              4803 non-null   int64  \n",
            " 20  title_y               4803 non-null   object \n",
            " 21  cast                  4803 non-null   object \n",
            " 22  crew                  4803 non-null   object \n",
            "dtypes: float64(3), int64(4), object(16)\n",
            "memory usage: 863.2+ KB\n"
          ]
        }
      ],
      "source": [
        "data.info()"
      ]
    },
    {
      "cell_type": "code",
      "execution_count": 8,
      "metadata": {
        "id": "5hM6cj48oMxj"
      },
      "outputs": [],
      "source": [
        "input_col=data[['movie_id','genres','keywords','overview','tagline','title_x','crew','cast']]"
      ]
    },
    {
      "cell_type": "code",
      "execution_count": 9,
      "metadata": {
        "id": "V5pdwZTno33D"
      },
      "outputs": [],
      "source": [
        "df=pd.DataFrame(input_col)"
      ]
    },
    {
      "cell_type": "code",
      "execution_count": 10,
      "metadata": {
        "colab": {
          "base_uri": "https://localhost:8080/",
          "height": 1000
        },
        "id": "HwvwTiswpVuU",
        "outputId": "cc9c095c-a8de-4593-c19d-c8a3d8456d10"
      },
      "outputs": [
        {
          "output_type": "execute_result",
          "data": {
            "text/plain": [
              "      movie_id                                             genres  \\\n",
              "0        19995  [{\"id\": 28, \"name\": \"Action\"}, {\"id\": 12, \"nam...   \n",
              "1          285  [{\"id\": 12, \"name\": \"Adventure\"}, {\"id\": 14, \"...   \n",
              "2       206647  [{\"id\": 28, \"name\": \"Action\"}, {\"id\": 12, \"nam...   \n",
              "3        49026  [{\"id\": 28, \"name\": \"Action\"}, {\"id\": 80, \"nam...   \n",
              "4        49529  [{\"id\": 28, \"name\": \"Action\"}, {\"id\": 12, \"nam...   \n",
              "...        ...                                                ...   \n",
              "4798      9367  [{\"id\": 28, \"name\": \"Action\"}, {\"id\": 80, \"nam...   \n",
              "4799     72766  [{\"id\": 35, \"name\": \"Comedy\"}, {\"id\": 10749, \"...   \n",
              "4800    231617  [{\"id\": 35, \"name\": \"Comedy\"}, {\"id\": 18, \"nam...   \n",
              "4801    126186                                                 []   \n",
              "4802     25975                [{\"id\": 99, \"name\": \"Documentary\"}]   \n",
              "\n",
              "                                               keywords  \\\n",
              "0     [{\"id\": 1463, \"name\": \"culture clash\"}, {\"id\":...   \n",
              "1     [{\"id\": 270, \"name\": \"ocean\"}, {\"id\": 726, \"na...   \n",
              "2     [{\"id\": 470, \"name\": \"spy\"}, {\"id\": 818, \"name...   \n",
              "3     [{\"id\": 849, \"name\": \"dc comics\"}, {\"id\": 853,...   \n",
              "4     [{\"id\": 818, \"name\": \"based on novel\"}, {\"id\":...   \n",
              "...                                                 ...   \n",
              "4798  [{\"id\": 5616, \"name\": \"united states\\u2013mexi...   \n",
              "4799                                                 []   \n",
              "4800  [{\"id\": 248, \"name\": \"date\"}, {\"id\": 699, \"nam...   \n",
              "4801                                                 []   \n",
              "4802  [{\"id\": 1523, \"name\": \"obsession\"}, {\"id\": 224...   \n",
              "\n",
              "                                               overview  \\\n",
              "0     In the 22nd century, a paraplegic Marine is di...   \n",
              "1     Captain Barbossa, long believed to be dead, ha...   \n",
              "2     A cryptic message from Bond’s past sends him o...   \n",
              "3     Following the death of District Attorney Harve...   \n",
              "4     John Carter is a war-weary, former military ca...   \n",
              "...                                                 ...   \n",
              "4798  El Mariachi just wants to play his guitar and ...   \n",
              "4799  A newlywed couple's honeymoon is upended by th...   \n",
              "4800  \"Signed, Sealed, Delivered\" introduces a dedic...   \n",
              "4801  When ambitious New York attorney Sam is sent t...   \n",
              "4802  Ever since the second grade when he first saw ...   \n",
              "\n",
              "                                                tagline  \\\n",
              "0                           Enter the World of Pandora.   \n",
              "1        At the end of the world, the adventure begins.   \n",
              "2                                 A Plan No One Escapes   \n",
              "3                                       The Legend Ends   \n",
              "4                  Lost in our world, found in another.   \n",
              "...                                                 ...   \n",
              "4798  He didn't come looking for trouble, but troubl...   \n",
              "4799  A newlywed couple's honeymoon is upended by th...   \n",
              "4800                                                NaN   \n",
              "4801                           A New Yorker in Shanghai   \n",
              "4802                                                NaN   \n",
              "\n",
              "                                       title_x  \\\n",
              "0                                       Avatar   \n",
              "1     Pirates of the Caribbean: At World's End   \n",
              "2                                      Spectre   \n",
              "3                        The Dark Knight Rises   \n",
              "4                                  John Carter   \n",
              "...                                        ...   \n",
              "4798                               El Mariachi   \n",
              "4799                                 Newlyweds   \n",
              "4800                 Signed, Sealed, Delivered   \n",
              "4801                          Shanghai Calling   \n",
              "4802                         My Date with Drew   \n",
              "\n",
              "                                                   crew  \\\n",
              "0     [{\"credit_id\": \"52fe48009251416c750aca23\", \"de...   \n",
              "1     [{\"credit_id\": \"52fe4232c3a36847f800b579\", \"de...   \n",
              "2     [{\"credit_id\": \"54805967c3a36829b5002c41\", \"de...   \n",
              "3     [{\"credit_id\": \"52fe4781c3a36847f81398c3\", \"de...   \n",
              "4     [{\"credit_id\": \"52fe479ac3a36847f813eaa3\", \"de...   \n",
              "...                                                 ...   \n",
              "4798  [{\"credit_id\": \"52fe44eec3a36847f80b280b\", \"de...   \n",
              "4799  [{\"credit_id\": \"52fe487dc3a368484e0fb013\", \"de...   \n",
              "4800  [{\"credit_id\": \"52fe4df3c3a36847f8275ecf\", \"de...   \n",
              "4801  [{\"credit_id\": \"52fe4ad9c3a368484e16a36b\", \"de...   \n",
              "4802  [{\"credit_id\": \"58ce021b9251415a390165d9\", \"de...   \n",
              "\n",
              "                                                   cast  \n",
              "0     [{\"cast_id\": 242, \"character\": \"Jake Sully\", \"...  \n",
              "1     [{\"cast_id\": 4, \"character\": \"Captain Jack Spa...  \n",
              "2     [{\"cast_id\": 1, \"character\": \"James Bond\", \"cr...  \n",
              "3     [{\"cast_id\": 2, \"character\": \"Bruce Wayne / Ba...  \n",
              "4     [{\"cast_id\": 5, \"character\": \"John Carter\", \"c...  \n",
              "...                                                 ...  \n",
              "4798  [{\"cast_id\": 1, \"character\": \"El Mariachi\", \"c...  \n",
              "4799  [{\"cast_id\": 1, \"character\": \"Buzzy\", \"credit_...  \n",
              "4800  [{\"cast_id\": 8, \"character\": \"Oliver O\\u2019To...  \n",
              "4801  [{\"cast_id\": 3, \"character\": \"Sam\", \"credit_id...  \n",
              "4802  [{\"cast_id\": 3, \"character\": \"Herself\", \"credi...  \n",
              "\n",
              "[4803 rows x 8 columns]"
            ],
            "text/html": [
              "\n",
              "  <div id=\"df-5a6f7cc4-5198-422e-a399-1c51e1c512ca\" class=\"colab-df-container\">\n",
              "    <div>\n",
              "<style scoped>\n",
              "    .dataframe tbody tr th:only-of-type {\n",
              "        vertical-align: middle;\n",
              "    }\n",
              "\n",
              "    .dataframe tbody tr th {\n",
              "        vertical-align: top;\n",
              "    }\n",
              "\n",
              "    .dataframe thead th {\n",
              "        text-align: right;\n",
              "    }\n",
              "</style>\n",
              "<table border=\"1\" class=\"dataframe\">\n",
              "  <thead>\n",
              "    <tr style=\"text-align: right;\">\n",
              "      <th></th>\n",
              "      <th>movie_id</th>\n",
              "      <th>genres</th>\n",
              "      <th>keywords</th>\n",
              "      <th>overview</th>\n",
              "      <th>tagline</th>\n",
              "      <th>title_x</th>\n",
              "      <th>crew</th>\n",
              "      <th>cast</th>\n",
              "    </tr>\n",
              "  </thead>\n",
              "  <tbody>\n",
              "    <tr>\n",
              "      <th>0</th>\n",
              "      <td>19995</td>\n",
              "      <td>[{\"id\": 28, \"name\": \"Action\"}, {\"id\": 12, \"nam...</td>\n",
              "      <td>[{\"id\": 1463, \"name\": \"culture clash\"}, {\"id\":...</td>\n",
              "      <td>In the 22nd century, a paraplegic Marine is di...</td>\n",
              "      <td>Enter the World of Pandora.</td>\n",
              "      <td>Avatar</td>\n",
              "      <td>[{\"credit_id\": \"52fe48009251416c750aca23\", \"de...</td>\n",
              "      <td>[{\"cast_id\": 242, \"character\": \"Jake Sully\", \"...</td>\n",
              "    </tr>\n",
              "    <tr>\n",
              "      <th>1</th>\n",
              "      <td>285</td>\n",
              "      <td>[{\"id\": 12, \"name\": \"Adventure\"}, {\"id\": 14, \"...</td>\n",
              "      <td>[{\"id\": 270, \"name\": \"ocean\"}, {\"id\": 726, \"na...</td>\n",
              "      <td>Captain Barbossa, long believed to be dead, ha...</td>\n",
              "      <td>At the end of the world, the adventure begins.</td>\n",
              "      <td>Pirates of the Caribbean: At World's End</td>\n",
              "      <td>[{\"credit_id\": \"52fe4232c3a36847f800b579\", \"de...</td>\n",
              "      <td>[{\"cast_id\": 4, \"character\": \"Captain Jack Spa...</td>\n",
              "    </tr>\n",
              "    <tr>\n",
              "      <th>2</th>\n",
              "      <td>206647</td>\n",
              "      <td>[{\"id\": 28, \"name\": \"Action\"}, {\"id\": 12, \"nam...</td>\n",
              "      <td>[{\"id\": 470, \"name\": \"spy\"}, {\"id\": 818, \"name...</td>\n",
              "      <td>A cryptic message from Bond’s past sends him o...</td>\n",
              "      <td>A Plan No One Escapes</td>\n",
              "      <td>Spectre</td>\n",
              "      <td>[{\"credit_id\": \"54805967c3a36829b5002c41\", \"de...</td>\n",
              "      <td>[{\"cast_id\": 1, \"character\": \"James Bond\", \"cr...</td>\n",
              "    </tr>\n",
              "    <tr>\n",
              "      <th>3</th>\n",
              "      <td>49026</td>\n",
              "      <td>[{\"id\": 28, \"name\": \"Action\"}, {\"id\": 80, \"nam...</td>\n",
              "      <td>[{\"id\": 849, \"name\": \"dc comics\"}, {\"id\": 853,...</td>\n",
              "      <td>Following the death of District Attorney Harve...</td>\n",
              "      <td>The Legend Ends</td>\n",
              "      <td>The Dark Knight Rises</td>\n",
              "      <td>[{\"credit_id\": \"52fe4781c3a36847f81398c3\", \"de...</td>\n",
              "      <td>[{\"cast_id\": 2, \"character\": \"Bruce Wayne / Ba...</td>\n",
              "    </tr>\n",
              "    <tr>\n",
              "      <th>4</th>\n",
              "      <td>49529</td>\n",
              "      <td>[{\"id\": 28, \"name\": \"Action\"}, {\"id\": 12, \"nam...</td>\n",
              "      <td>[{\"id\": 818, \"name\": \"based on novel\"}, {\"id\":...</td>\n",
              "      <td>John Carter is a war-weary, former military ca...</td>\n",
              "      <td>Lost in our world, found in another.</td>\n",
              "      <td>John Carter</td>\n",
              "      <td>[{\"credit_id\": \"52fe479ac3a36847f813eaa3\", \"de...</td>\n",
              "      <td>[{\"cast_id\": 5, \"character\": \"John Carter\", \"c...</td>\n",
              "    </tr>\n",
              "    <tr>\n",
              "      <th>...</th>\n",
              "      <td>...</td>\n",
              "      <td>...</td>\n",
              "      <td>...</td>\n",
              "      <td>...</td>\n",
              "      <td>...</td>\n",
              "      <td>...</td>\n",
              "      <td>...</td>\n",
              "      <td>...</td>\n",
              "    </tr>\n",
              "    <tr>\n",
              "      <th>4798</th>\n",
              "      <td>9367</td>\n",
              "      <td>[{\"id\": 28, \"name\": \"Action\"}, {\"id\": 80, \"nam...</td>\n",
              "      <td>[{\"id\": 5616, \"name\": \"united states\\u2013mexi...</td>\n",
              "      <td>El Mariachi just wants to play his guitar and ...</td>\n",
              "      <td>He didn't come looking for trouble, but troubl...</td>\n",
              "      <td>El Mariachi</td>\n",
              "      <td>[{\"credit_id\": \"52fe44eec3a36847f80b280b\", \"de...</td>\n",
              "      <td>[{\"cast_id\": 1, \"character\": \"El Mariachi\", \"c...</td>\n",
              "    </tr>\n",
              "    <tr>\n",
              "      <th>4799</th>\n",
              "      <td>72766</td>\n",
              "      <td>[{\"id\": 35, \"name\": \"Comedy\"}, {\"id\": 10749, \"...</td>\n",
              "      <td>[]</td>\n",
              "      <td>A newlywed couple's honeymoon is upended by th...</td>\n",
              "      <td>A newlywed couple's honeymoon is upended by th...</td>\n",
              "      <td>Newlyweds</td>\n",
              "      <td>[{\"credit_id\": \"52fe487dc3a368484e0fb013\", \"de...</td>\n",
              "      <td>[{\"cast_id\": 1, \"character\": \"Buzzy\", \"credit_...</td>\n",
              "    </tr>\n",
              "    <tr>\n",
              "      <th>4800</th>\n",
              "      <td>231617</td>\n",
              "      <td>[{\"id\": 35, \"name\": \"Comedy\"}, {\"id\": 18, \"nam...</td>\n",
              "      <td>[{\"id\": 248, \"name\": \"date\"}, {\"id\": 699, \"nam...</td>\n",
              "      <td>\"Signed, Sealed, Delivered\" introduces a dedic...</td>\n",
              "      <td>NaN</td>\n",
              "      <td>Signed, Sealed, Delivered</td>\n",
              "      <td>[{\"credit_id\": \"52fe4df3c3a36847f8275ecf\", \"de...</td>\n",
              "      <td>[{\"cast_id\": 8, \"character\": \"Oliver O\\u2019To...</td>\n",
              "    </tr>\n",
              "    <tr>\n",
              "      <th>4801</th>\n",
              "      <td>126186</td>\n",
              "      <td>[]</td>\n",
              "      <td>[]</td>\n",
              "      <td>When ambitious New York attorney Sam is sent t...</td>\n",
              "      <td>A New Yorker in Shanghai</td>\n",
              "      <td>Shanghai Calling</td>\n",
              "      <td>[{\"credit_id\": \"52fe4ad9c3a368484e16a36b\", \"de...</td>\n",
              "      <td>[{\"cast_id\": 3, \"character\": \"Sam\", \"credit_id...</td>\n",
              "    </tr>\n",
              "    <tr>\n",
              "      <th>4802</th>\n",
              "      <td>25975</td>\n",
              "      <td>[{\"id\": 99, \"name\": \"Documentary\"}]</td>\n",
              "      <td>[{\"id\": 1523, \"name\": \"obsession\"}, {\"id\": 224...</td>\n",
              "      <td>Ever since the second grade when he first saw ...</td>\n",
              "      <td>NaN</td>\n",
              "      <td>My Date with Drew</td>\n",
              "      <td>[{\"credit_id\": \"58ce021b9251415a390165d9\", \"de...</td>\n",
              "      <td>[{\"cast_id\": 3, \"character\": \"Herself\", \"credi...</td>\n",
              "    </tr>\n",
              "  </tbody>\n",
              "</table>\n",
              "<p>4803 rows × 8 columns</p>\n",
              "</div>\n",
              "    <div class=\"colab-df-buttons\">\n",
              "\n",
              "  <div class=\"colab-df-container\">\n",
              "    <button class=\"colab-df-convert\" onclick=\"convertToInteractive('df-5a6f7cc4-5198-422e-a399-1c51e1c512ca')\"\n",
              "            title=\"Convert this dataframe to an interactive table.\"\n",
              "            style=\"display:none;\">\n",
              "\n",
              "  <svg xmlns=\"http://www.w3.org/2000/svg\" height=\"24px\" viewBox=\"0 -960 960 960\">\n",
              "    <path d=\"M120-120v-720h720v720H120Zm60-500h600v-160H180v160Zm220 220h160v-160H400v160Zm0 220h160v-160H400v160ZM180-400h160v-160H180v160Zm440 0h160v-160H620v160ZM180-180h160v-160H180v160Zm440 0h160v-160H620v160Z\"/>\n",
              "  </svg>\n",
              "    </button>\n",
              "\n",
              "  <style>\n",
              "    .colab-df-container {\n",
              "      display:flex;\n",
              "      gap: 12px;\n",
              "    }\n",
              "\n",
              "    .colab-df-convert {\n",
              "      background-color: #E8F0FE;\n",
              "      border: none;\n",
              "      border-radius: 50%;\n",
              "      cursor: pointer;\n",
              "      display: none;\n",
              "      fill: #1967D2;\n",
              "      height: 32px;\n",
              "      padding: 0 0 0 0;\n",
              "      width: 32px;\n",
              "    }\n",
              "\n",
              "    .colab-df-convert:hover {\n",
              "      background-color: #E2EBFA;\n",
              "      box-shadow: 0px 1px 2px rgba(60, 64, 67, 0.3), 0px 1px 3px 1px rgba(60, 64, 67, 0.15);\n",
              "      fill: #174EA6;\n",
              "    }\n",
              "\n",
              "    .colab-df-buttons div {\n",
              "      margin-bottom: 4px;\n",
              "    }\n",
              "\n",
              "    [theme=dark] .colab-df-convert {\n",
              "      background-color: #3B4455;\n",
              "      fill: #D2E3FC;\n",
              "    }\n",
              "\n",
              "    [theme=dark] .colab-df-convert:hover {\n",
              "      background-color: #434B5C;\n",
              "      box-shadow: 0px 1px 3px 1px rgba(0, 0, 0, 0.15);\n",
              "      filter: drop-shadow(0px 1px 2px rgba(0, 0, 0, 0.3));\n",
              "      fill: #FFFFFF;\n",
              "    }\n",
              "  </style>\n",
              "\n",
              "    <script>\n",
              "      const buttonEl =\n",
              "        document.querySelector('#df-5a6f7cc4-5198-422e-a399-1c51e1c512ca button.colab-df-convert');\n",
              "      buttonEl.style.display =\n",
              "        google.colab.kernel.accessAllowed ? 'block' : 'none';\n",
              "\n",
              "      async function convertToInteractive(key) {\n",
              "        const element = document.querySelector('#df-5a6f7cc4-5198-422e-a399-1c51e1c512ca');\n",
              "        const dataTable =\n",
              "          await google.colab.kernel.invokeFunction('convertToInteractive',\n",
              "                                                    [key], {});\n",
              "        if (!dataTable) return;\n",
              "\n",
              "        const docLinkHtml = 'Like what you see? Visit the ' +\n",
              "          '<a target=\"_blank\" href=https://colab.research.google.com/notebooks/data_table.ipynb>data table notebook</a>'\n",
              "          + ' to learn more about interactive tables.';\n",
              "        element.innerHTML = '';\n",
              "        dataTable['output_type'] = 'display_data';\n",
              "        await google.colab.output.renderOutput(dataTable, element);\n",
              "        const docLink = document.createElement('div');\n",
              "        docLink.innerHTML = docLinkHtml;\n",
              "        element.appendChild(docLink);\n",
              "      }\n",
              "    </script>\n",
              "  </div>\n",
              "\n",
              "\n",
              "    <div id=\"df-6920a865-c874-48f7-a9cc-cc4f7ed33b32\">\n",
              "      <button class=\"colab-df-quickchart\" onclick=\"quickchart('df-6920a865-c874-48f7-a9cc-cc4f7ed33b32')\"\n",
              "                title=\"Suggest charts\"\n",
              "                style=\"display:none;\">\n",
              "\n",
              "<svg xmlns=\"http://www.w3.org/2000/svg\" height=\"24px\"viewBox=\"0 0 24 24\"\n",
              "     width=\"24px\">\n",
              "    <g>\n",
              "        <path d=\"M19 3H5c-1.1 0-2 .9-2 2v14c0 1.1.9 2 2 2h14c1.1 0 2-.9 2-2V5c0-1.1-.9-2-2-2zM9 17H7v-7h2v7zm4 0h-2V7h2v10zm4 0h-2v-4h2v4z\"/>\n",
              "    </g>\n",
              "</svg>\n",
              "      </button>\n",
              "\n",
              "<style>\n",
              "  .colab-df-quickchart {\n",
              "      --bg-color: #E8F0FE;\n",
              "      --fill-color: #1967D2;\n",
              "      --hover-bg-color: #E2EBFA;\n",
              "      --hover-fill-color: #174EA6;\n",
              "      --disabled-fill-color: #AAA;\n",
              "      --disabled-bg-color: #DDD;\n",
              "  }\n",
              "\n",
              "  [theme=dark] .colab-df-quickchart {\n",
              "      --bg-color: #3B4455;\n",
              "      --fill-color: #D2E3FC;\n",
              "      --hover-bg-color: #434B5C;\n",
              "      --hover-fill-color: #FFFFFF;\n",
              "      --disabled-bg-color: #3B4455;\n",
              "      --disabled-fill-color: #666;\n",
              "  }\n",
              "\n",
              "  .colab-df-quickchart {\n",
              "    background-color: var(--bg-color);\n",
              "    border: none;\n",
              "    border-radius: 50%;\n",
              "    cursor: pointer;\n",
              "    display: none;\n",
              "    fill: var(--fill-color);\n",
              "    height: 32px;\n",
              "    padding: 0;\n",
              "    width: 32px;\n",
              "  }\n",
              "\n",
              "  .colab-df-quickchart:hover {\n",
              "    background-color: var(--hover-bg-color);\n",
              "    box-shadow: 0 1px 2px rgba(60, 64, 67, 0.3), 0 1px 3px 1px rgba(60, 64, 67, 0.15);\n",
              "    fill: var(--button-hover-fill-color);\n",
              "  }\n",
              "\n",
              "  .colab-df-quickchart-complete:disabled,\n",
              "  .colab-df-quickchart-complete:disabled:hover {\n",
              "    background-color: var(--disabled-bg-color);\n",
              "    fill: var(--disabled-fill-color);\n",
              "    box-shadow: none;\n",
              "  }\n",
              "\n",
              "  .colab-df-spinner {\n",
              "    border: 2px solid var(--fill-color);\n",
              "    border-color: transparent;\n",
              "    border-bottom-color: var(--fill-color);\n",
              "    animation:\n",
              "      spin 1s steps(1) infinite;\n",
              "  }\n",
              "\n",
              "  @keyframes spin {\n",
              "    0% {\n",
              "      border-color: transparent;\n",
              "      border-bottom-color: var(--fill-color);\n",
              "      border-left-color: var(--fill-color);\n",
              "    }\n",
              "    20% {\n",
              "      border-color: transparent;\n",
              "      border-left-color: var(--fill-color);\n",
              "      border-top-color: var(--fill-color);\n",
              "    }\n",
              "    30% {\n",
              "      border-color: transparent;\n",
              "      border-left-color: var(--fill-color);\n",
              "      border-top-color: var(--fill-color);\n",
              "      border-right-color: var(--fill-color);\n",
              "    }\n",
              "    40% {\n",
              "      border-color: transparent;\n",
              "      border-right-color: var(--fill-color);\n",
              "      border-top-color: var(--fill-color);\n",
              "    }\n",
              "    60% {\n",
              "      border-color: transparent;\n",
              "      border-right-color: var(--fill-color);\n",
              "    }\n",
              "    80% {\n",
              "      border-color: transparent;\n",
              "      border-right-color: var(--fill-color);\n",
              "      border-bottom-color: var(--fill-color);\n",
              "    }\n",
              "    90% {\n",
              "      border-color: transparent;\n",
              "      border-bottom-color: var(--fill-color);\n",
              "    }\n",
              "  }\n",
              "</style>\n",
              "\n",
              "      <script>\n",
              "        async function quickchart(key) {\n",
              "          const quickchartButtonEl =\n",
              "            document.querySelector('#' + key + ' button');\n",
              "          quickchartButtonEl.disabled = true;  // To prevent multiple clicks.\n",
              "          quickchartButtonEl.classList.add('colab-df-spinner');\n",
              "          try {\n",
              "            const charts = await google.colab.kernel.invokeFunction(\n",
              "                'suggestCharts', [key], {});\n",
              "          } catch (error) {\n",
              "            console.error('Error during call to suggestCharts:', error);\n",
              "          }\n",
              "          quickchartButtonEl.classList.remove('colab-df-spinner');\n",
              "          quickchartButtonEl.classList.add('colab-df-quickchart-complete');\n",
              "        }\n",
              "        (() => {\n",
              "          let quickchartButtonEl =\n",
              "            document.querySelector('#df-6920a865-c874-48f7-a9cc-cc4f7ed33b32 button');\n",
              "          quickchartButtonEl.style.display =\n",
              "            google.colab.kernel.accessAllowed ? 'block' : 'none';\n",
              "        })();\n",
              "      </script>\n",
              "    </div>\n",
              "\n",
              "  <div id=\"id_6367249b-ce07-436b-aed5-97c2c2b99e12\">\n",
              "    <style>\n",
              "      .colab-df-generate {\n",
              "        background-color: #E8F0FE;\n",
              "        border: none;\n",
              "        border-radius: 50%;\n",
              "        cursor: pointer;\n",
              "        display: none;\n",
              "        fill: #1967D2;\n",
              "        height: 32px;\n",
              "        padding: 0 0 0 0;\n",
              "        width: 32px;\n",
              "      }\n",
              "\n",
              "      .colab-df-generate:hover {\n",
              "        background-color: #E2EBFA;\n",
              "        box-shadow: 0px 1px 2px rgba(60, 64, 67, 0.3), 0px 1px 3px 1px rgba(60, 64, 67, 0.15);\n",
              "        fill: #174EA6;\n",
              "      }\n",
              "\n",
              "      [theme=dark] .colab-df-generate {\n",
              "        background-color: #3B4455;\n",
              "        fill: #D2E3FC;\n",
              "      }\n",
              "\n",
              "      [theme=dark] .colab-df-generate:hover {\n",
              "        background-color: #434B5C;\n",
              "        box-shadow: 0px 1px 3px 1px rgba(0, 0, 0, 0.15);\n",
              "        filter: drop-shadow(0px 1px 2px rgba(0, 0, 0, 0.3));\n",
              "        fill: #FFFFFF;\n",
              "      }\n",
              "    </style>\n",
              "    <button class=\"colab-df-generate\" onclick=\"generateWithVariable('df')\"\n",
              "            title=\"Generate code using this dataframe.\"\n",
              "            style=\"display:none;\">\n",
              "\n",
              "  <svg xmlns=\"http://www.w3.org/2000/svg\" height=\"24px\"viewBox=\"0 0 24 24\"\n",
              "       width=\"24px\">\n",
              "    <path d=\"M7,19H8.4L18.45,9,17,7.55,7,17.6ZM5,21V16.75L18.45,3.32a2,2,0,0,1,2.83,0l1.4,1.43a1.91,1.91,0,0,1,.58,1.4,1.91,1.91,0,0,1-.58,1.4L9.25,21ZM18.45,9,17,7.55Zm-12,3A5.31,5.31,0,0,0,4.9,8.1,5.31,5.31,0,0,0,1,6.5,5.31,5.31,0,0,0,4.9,4.9,5.31,5.31,0,0,0,6.5,1,5.31,5.31,0,0,0,8.1,4.9,5.31,5.31,0,0,0,12,6.5,5.46,5.46,0,0,0,6.5,12Z\"/>\n",
              "  </svg>\n",
              "    </button>\n",
              "    <script>\n",
              "      (() => {\n",
              "      const buttonEl =\n",
              "        document.querySelector('#id_6367249b-ce07-436b-aed5-97c2c2b99e12 button.colab-df-generate');\n",
              "      buttonEl.style.display =\n",
              "        google.colab.kernel.accessAllowed ? 'block' : 'none';\n",
              "\n",
              "      buttonEl.onclick = () => {\n",
              "        google.colab.notebook.generateWithVariable('df');\n",
              "      }\n",
              "      })();\n",
              "    </script>\n",
              "  </div>\n",
              "\n",
              "    </div>\n",
              "  </div>\n"
            ],
            "application/vnd.google.colaboratory.intrinsic+json": {
              "type": "dataframe",
              "variable_name": "df",
              "summary": "{\n  \"name\": \"df\",\n  \"rows\": 4803,\n  \"fields\": [\n    {\n      \"column\": \"movie_id\",\n      \"properties\": {\n        \"dtype\": \"number\",\n        \"std\": 88694,\n        \"min\": 5,\n        \"max\": 459488,\n        \"num_unique_values\": 4803,\n        \"samples\": [\n          8427,\n          13006,\n          18041\n        ],\n        \"semantic_type\": \"\",\n        \"description\": \"\"\n      }\n    },\n    {\n      \"column\": \"genres\",\n      \"properties\": {\n        \"dtype\": \"category\",\n        \"num_unique_values\": 1175,\n        \"samples\": [\n          \"[{\\\"id\\\": 14, \\\"name\\\": \\\"Fantasy\\\"}, {\\\"id\\\": 12, \\\"name\\\": \\\"Adventure\\\"}, {\\\"id\\\": 16, \\\"name\\\": \\\"Animation\\\"}]\",\n          \"[{\\\"id\\\": 28, \\\"name\\\": \\\"Action\\\"}, {\\\"id\\\": 35, \\\"name\\\": \\\"Comedy\\\"}, {\\\"id\\\": 80, \\\"name\\\": \\\"Crime\\\"}, {\\\"id\\\": 18, \\\"name\\\": \\\"Drama\\\"}]\",\n          \"[{\\\"id\\\": 12, \\\"name\\\": \\\"Adventure\\\"}, {\\\"id\\\": 16, \\\"name\\\": \\\"Animation\\\"}, {\\\"id\\\": 10751, \\\"name\\\": \\\"Family\\\"}, {\\\"id\\\": 14, \\\"name\\\": \\\"Fantasy\\\"}, {\\\"id\\\": 878, \\\"name\\\": \\\"Science Fiction\\\"}]\"\n        ],\n        \"semantic_type\": \"\",\n        \"description\": \"\"\n      }\n    },\n    {\n      \"column\": \"keywords\",\n      \"properties\": {\n        \"dtype\": \"string\",\n        \"num_unique_values\": 4222,\n        \"samples\": [\n          \"[{\\\"id\\\": 782, \\\"name\\\": \\\"assassin\\\"}, {\\\"id\\\": 1872, \\\"name\\\": \\\"loss of father\\\"}, {\\\"id\\\": 2908, \\\"name\\\": \\\"secret society\\\"}, {\\\"id\\\": 3045, \\\"name\\\": \\\"mission of murder\\\"}, {\\\"id\\\": 9748, \\\"name\\\": \\\"revenge\\\"}]\",\n          \"[{\\\"id\\\": 2987, \\\"name\\\": \\\"gang war\\\"}, {\\\"id\\\": 4942, \\\"name\\\": \\\"victim of murder\\\"}, {\\\"id\\\": 5332, \\\"name\\\": \\\"greed\\\"}, {\\\"id\\\": 6062, \\\"name\\\": \\\"hostility\\\"}, {\\\"id\\\": 156212, \\\"name\\\": \\\"spaghetti western\\\"}]\",\n          \"[{\\\"id\\\": 703, \\\"name\\\": \\\"detective\\\"}, {\\\"id\\\": 1299, \\\"name\\\": \\\"monster\\\"}, {\\\"id\\\": 6101, \\\"name\\\": \\\"engine\\\"}, {\\\"id\\\": 10988, \\\"name\\\": \\\"based on tv series\\\"}, {\\\"id\\\": 15162, \\\"name\\\": \\\"dog\\\"}]\"\n        ],\n        \"semantic_type\": \"\",\n        \"description\": \"\"\n      }\n    },\n    {\n      \"column\": \"overview\",\n      \"properties\": {\n        \"dtype\": \"string\",\n        \"num_unique_values\": 4800,\n        \"samples\": [\n          \"When the Switchblade, the most sophisticated prototype stealth fighter created yet, is stolen from the U.S. government, one of the United States' top spies, Alex Scott, is called to action. What he doesn't expect is to get teamed up with a cocky civilian, World Class Boxing Champion Kelly Robinson, on a dangerous top secret espionage mission. Their assignment: using equal parts skill and humor, catch Arnold Gundars, one of the world's most successful arms dealers.\",\n          \"When \\\"street smart\\\" rapper Christopher \\\"C-Note\\\" Hawkins (Big Boi) applies for a membership to all-white Carolina Pines Country Club, the establishment's proprietors are hardly ready to oblige him.\",\n          \"As their first year of high school looms ahead, best friends Julie, Hannah, Yancy and Farrah have one last summer sleepover. Little do they know they're about to embark on the adventure of a lifetime. Desperate to shed their nerdy status, they take part in a night-long scavenger hunt that pits them against their popular archrivals. Everything under the sun goes on -- from taking Yancy's father's car to sneaking into nightclubs!\"\n        ],\n        \"semantic_type\": \"\",\n        \"description\": \"\"\n      }\n    },\n    {\n      \"column\": \"tagline\",\n      \"properties\": {\n        \"dtype\": \"string\",\n        \"num_unique_values\": 3944,\n        \"samples\": [\n          \"When you're 17, every day is war.\",\n          \"An Unspeakable Horror. A Creative Genius. Captured For Eternity.\",\n          \"May the schwartz be with you\"\n        ],\n        \"semantic_type\": \"\",\n        \"description\": \"\"\n      }\n    },\n    {\n      \"column\": \"title_x\",\n      \"properties\": {\n        \"dtype\": \"string\",\n        \"num_unique_values\": 4800,\n        \"samples\": [\n          \"I Spy\",\n          \"Who's Your Caddy?\",\n          \"Sleepover\"\n        ],\n        \"semantic_type\": \"\",\n        \"description\": \"\"\n      }\n    },\n    {\n      \"column\": \"crew\",\n      \"properties\": {\n        \"dtype\": \"string\",\n        \"num_unique_values\": 4776,\n        \"samples\": [\n          \"[{\\\"credit_id\\\": \\\"538d82720e0a26670e005e83\\\", \\\"department\\\": \\\"Editing\\\", \\\"gender\\\": 2, \\\"id\\\": 898, \\\"job\\\": \\\"Editor\\\", \\\"name\\\": \\\"Mark Goldblatt\\\"}, {\\\"credit_id\\\": \\\"538d82860e0a266702005de5\\\", \\\"department\\\": \\\"Editing\\\", \\\"gender\\\": 2, \\\"id\\\": 1098, \\\"job\\\": \\\"Editor\\\", \\\"name\\\": \\\"Mark Helfrich\\\"}, {\\\"credit_id\\\": \\\"538d820c0e0a266708006129\\\", \\\"department\\\": \\\"Production\\\", \\\"gender\\\": 0, \\\"id\\\": 2095, \\\"job\\\": \\\"Producer\\\", \\\"name\\\": \\\"Ralph Winter\\\"}, {\\\"credit_id\\\": \\\"538d82d30e0a266712005def\\\", \\\"department\\\": \\\"Production\\\", \\\"gender\\\": 2, \\\"id\\\": 2624, \\\"job\\\": \\\"Casting\\\", \\\"name\\\": \\\"Richard Pagano\\\"}, {\\\"credit_id\\\": \\\"538d82ea0e0a266715005e74\\\", \\\"department\\\": \\\"Art\\\", \\\"gender\\\": 2, \\\"id\\\": 4953, \\\"job\\\": \\\"Production Design\\\", \\\"name\\\": \\\"Ed Verreaux\\\"}, {\\\"credit_id\\\": \\\"538d82ad0e0a26670800614d\\\", \\\"department\\\": \\\"Production\\\", \\\"gender\\\": 1, \\\"id\\\": 5362, \\\"job\\\": \\\"Casting\\\", \\\"name\\\": \\\"Heike Brandstatter\\\"}, {\\\"credit_id\\\": \\\"538d82c00e0a266705005fa2\\\", \\\"department\\\": \\\"Production\\\", \\\"gender\\\": 1, \\\"id\\\": 5363, \\\"job\\\": \\\"Casting\\\", \\\"name\\\": \\\"Coreen Mayrs\\\"}, {\\\"credit_id\\\": \\\"538d845ec3a368713c0047d2\\\", \\\"department\\\": \\\"Costume & Make-Up\\\", \\\"gender\\\": 0, \\\"id\\\": 6924, \\\"job\\\": \\\"Costume Supervisor\\\", \\\"name\\\": \\\"Dan Moore\\\"}, {\\\"credit_id\\\": \\\"538d81ef0e0a266718005cb8\\\", \\\"department\\\": \\\"Production\\\", \\\"gender\\\": 1, \\\"id\\\": 7200, \\\"job\\\": \\\"Producer\\\", \\\"name\\\": \\\"Lauren Shuler Donner\\\"}, {\\\"credit_id\\\": \\\"576710bec3a36806720004b0\\\", \\\"department\\\": \\\"Production\\\", \\\"gender\\\": 2, \\\"id\\\": 7624, \\\"job\\\": \\\"Executive Producer\\\", \\\"name\\\": \\\"Stan Lee\\\"}, {\\\"credit_id\\\": \\\"538d81d80e0a266715005e4d\\\", \\\"department\\\": \\\"Production\\\", \\\"gender\\\": 2, \\\"id\\\": 7626, \\\"job\\\": \\\"Producer\\\", \\\"name\\\": \\\"Avi Arad\\\"}, {\\\"credit_id\\\": \\\"5767101092514165c20000db\\\", \\\"department\\\": \\\"Production\\\", \\\"gender\\\": 2, \\\"id\\\": 10850, \\\"job\\\": \\\"Executive Producer\\\", \\\"name\\\": \\\"Kevin Feige\\\"}, {\\\"credit_id\\\": \\\"538d83ba0e0a26670b005ded\\\", \\\"department\\\": \\\"Costume & Make-Up\\\", \\\"gender\\\": 1, \\\"id\\\": 10970, \\\"job\\\": \\\"Costume Design\\\", \\\"name\\\": \\\"Judianna Makovsky\\\"}, {\\\"credit_id\\\": \\\"538d83620e0a266715005e82\\\", \\\"department\\\": \\\"Art\\\", \\\"gender\\\": 2, \\\"id\\\": 10549, \\\"job\\\": \\\"Art Direction\\\", \\\"name\\\": \\\"Justin Scoppa Jr.\\\"}, {\\\"credit_id\\\": \\\"5626465bc3a3680e0e01704b\\\", \\\"department\\\": \\\"Sound\\\", \\\"gender\\\": 2, \\\"id\\\": 11098, \\\"job\\\": \\\"Original Music Composer\\\", \\\"name\\\": \\\"John Powell\\\"}, {\\\"credit_id\\\": \\\"52fe45ff9251416c910459e1\\\", \\\"department\\\": \\\"Writing\\\", \\\"gender\\\": 2, \\\"id\\\": 11092, \\\"job\\\": \\\"Screenplay\\\", \\\"name\\\": \\\"Simon Kinberg\\\"}, {\\\"credit_id\\\": \\\"56abe4ecc3a3681c47003aa3\\\", \\\"department\\\": \\\"Crew\\\", \\\"gender\\\": 2, \\\"id\\\": 15017, \\\"job\\\": \\\"Makeup Effects\\\", \\\"name\\\": \\\"Bill Corso\\\"}, {\\\"credit_id\\\": \\\"538d82560e0a266705005f94\\\", \\\"department\\\": \\\"Camera\\\", \\\"gender\\\": 2, \\\"id\\\": 11099, \\\"job\\\": \\\"Director of Photography\\\", \\\"name\\\": \\\"Dante Spinotti\\\"}, {\\\"credit_id\\\": \\\"52fe45ff9251416c910459e7\\\", \\\"department\\\": \\\"Writing\\\", \\\"gender\\\": 2, \\\"id\\\": 11011, \\\"job\\\": \\\"Screenplay\\\", \\\"name\\\": \\\"Zak Penn\\\"}, {\\\"credit_id\\\": \\\"52fe45ff9251416c910459db\\\", \\\"department\\\": \\\"Directing\\\", \\\"gender\\\": 2, \\\"id\\\": 11091, \\\"job\\\": \\\"Director\\\", \\\"name\\\": \\\"Brett Ratner\\\"}, {\\\"credit_id\\\": \\\"538d834f0e0a266712005dfe\\\", \\\"department\\\": \\\"Art\\\", \\\"gender\\\": 1, \\\"id\\\": 22061, \\\"job\\\": \\\"Art Direction\\\", \\\"name\\\": \\\"Helen Jarvis\\\"}, {\\\"credit_id\\\": \\\"538d83a50e0a266715005e8b\\\", \\\"department\\\": \\\"Art\\\", \\\"gender\\\": 1, \\\"id\\\": 11021, \\\"job\\\": \\\"Set Decoration\\\", \\\"name\\\": \\\"Elizabeth Wilcox\\\"}, {\\\"credit_id\\\": \\\"538d83220e0a266702005df6\\\", \\\"department\\\": \\\"Art\\\", \\\"gender\\\": 0, \\\"id\\\": 11102, \\\"job\\\": \\\"Art Direction\\\", \\\"name\\\": \\\"Chad S. Frey\\\"}, {\\\"credit_id\\\": \\\"570b8dde9251412c740020d0\\\", \\\"department\\\": \\\"Art\\\", \\\"gender\\\": 0, \\\"id\\\": 46082, \\\"job\\\": \\\"Supervising Art Director\\\", \\\"name\\\": \\\"Geoff Hubbard\\\"}, {\\\"credit_id\\\": \\\"538d83ce0e0a266702005e02\\\", \\\"department\\\": \\\"Costume & Make-Up\\\", \\\"gender\\\": 2, \\\"id\\\": 11106, \\\"job\\\": \\\"Costume Design\\\", \\\"name\\\": \\\"Lisa Tomczeszyn\\\"}, {\\\"credit_id\\\": \\\"560046499251414e4d000197\\\", \\\"department\\\": \\\"Crew\\\", \\\"gender\\\": 0, \\\"id\\\": 113194, \\\"job\\\": \\\"Stunts\\\", \\\"name\\\": \\\"James Bamford\\\"}, {\\\"credit_id\\\": \\\"538d82990e0a266712005de9\\\", \\\"department\\\": \\\"Editing\\\", \\\"gender\\\": 1, \\\"id\\\": 11100, \\\"job\\\": \\\"Editor\\\", \\\"name\\\": \\\"Julia Wong\\\"}, {\\\"credit_id\\\": \\\"57671042c3a36806b3000104\\\", \\\"department\\\": \\\"Production\\\", \\\"gender\\\": 2, \\\"id\\\": 11095, \\\"job\\\": \\\"Co-Producer\\\", \\\"name\\\": \\\"James M. Freitag\\\"}, {\\\"credit_id\\\": \\\"57670fdbc3a3680722000106\\\", \\\"department\\\": \\\"Production\\\", \\\"gender\\\": 2, \\\"id\\\": 11014, \\\"job\\\": \\\"Co-Producer\\\", \\\"name\\\": \\\"Ross Fanger\\\"}, {\\\"credit_id\\\": \\\"538d83750e0a26670b005de5\\\", \\\"department\\\": \\\"Art\\\", \\\"gender\\\": 0, \\\"id\\\": 223991, \\\"job\\\": \\\"Art Direction\\\", \\\"name\\\": \\\"Sandi Tanaka\\\"}, {\\\"credit_id\\\": \\\"576710f192514133c5001213\\\", \\\"department\\\": \\\"Production\\\", \\\"gender\\\": 0, \\\"id\\\": 1182092, \\\"job\\\": \\\"Executive Producer\\\", \\\"name\\\": \\\"John Palermo\\\"}, {\\\"credit_id\\\": \\\"55402d2fc3a3681da0000633\\\", \\\"department\\\": \\\"Visual Effects\\\", \\\"gender\\\": 0, \\\"id\\\": 1395269, \\\"job\\\": \\\"Visual Effects Supervisor\\\", \\\"name\\\": \\\"John Bruno\\\"}, {\\\"credit_id\\\": \\\"563a9ed79251416d520145a0\\\", \\\"department\\\": \\\"Crew\\\", \\\"gender\\\": 0, \\\"id\\\": 1401803, \\\"job\\\": \\\"Digital Effects Supervisor\\\", \\\"name\\\": \\\"Guy Williams\\\"}, {\\\"credit_id\\\": \\\"5767112fc3a3680722000132\\\", \\\"department\\\": \\\"Production\\\", \\\"gender\\\": 0, \\\"id\\\": 1432021, \\\"job\\\": \\\"Co-Producer\\\", \\\"name\\\": \\\"Kurt Williams\\\"}, {\\\"credit_id\\\": \\\"55423048c3a36829e5003bc8\\\", \\\"department\\\": \\\"Crew\\\", \\\"gender\\\": 0, \\\"id\\\": 1447557, \\\"job\\\": \\\"Compositors\\\", \\\"name\\\": \\\"Rachel Wyn Dunn\\\"}, {\\\"credit_id\\\": \\\"552986b4c3a368596e001a79\\\", \\\"department\\\": \\\"Visual Effects\\\", \\\"gender\\\": 0, \\\"id\\\": 1452932, \\\"job\\\": \\\"Animation\\\", \\\"name\\\": \\\"Joel Fletcher\\\"}, {\\\"credit_id\\\": \\\"57670f92925141655a000109\\\", \\\"department\\\": \\\"Production\\\", \\\"gender\\\": 0, \\\"id\\\": 1477146, \\\"job\\\": \\\"Co-Producer\\\", \\\"name\\\": \\\"Lee Cleary\\\"}, {\\\"credit_id\\\": \\\"5767107c925141655a00012c\\\", \\\"department\\\": \\\"Production\\\", \\\"gender\\\": 0, \\\"id\\\": 1477147, \\\"job\\\": \\\"Associate Producer\\\", \\\"name\\\": \\\"David Gorder\\\"}, {\\\"credit_id\\\": \\\"5767105bc3a36850c4000573\\\", \\\"department\\\": \\\"Production\\\", \\\"gender\\\": 2, \\\"id\\\": 1477203, \\\"job\\\": \\\"Associate Producer\\\", \\\"name\\\": \\\"Luca Marco Paracels\\\"}]\",\n          \"[{\\\"credit_id\\\": \\\"58dd0e90c3a368223e00b59c\\\", \\\"department\\\": \\\"Production\\\", \\\"gender\\\": 1, \\\"id\\\": 546, \\\"job\\\": \\\"Casting\\\", \\\"name\\\": \\\"Jeanne McCarthy\\\"}, {\\\"credit_id\\\": \\\"52fe43bb9251416c7501bf83\\\", \\\"department\\\": \\\"Production\\\", \\\"gender\\\": 2, \\\"id\\\": 2043, \\\"job\\\": \\\"Producer\\\", \\\"name\\\": \\\"John Davis\\\"}, {\\\"credit_id\\\": \\\"5539fe35c3a3685cf8002f1e\\\", \\\"department\\\": \\\"Sound\\\", \\\"gender\\\": 2, \\\"id\\\": 3393, \\\"job\\\": \\\"Original Music Composer\\\", \\\"name\\\": \\\"David Newman\\\"}, {\\\"credit_id\\\": \\\"58dd0d3fc3a368228a00aa50\\\", \\\"department\\\": \\\"Production\\\", \\\"gender\\\": 0, \\\"id\\\": 6187, \\\"job\\\": \\\"Associate Producer\\\", \\\"name\\\": \\\"Aldric La'Auli Porter\\\"}, {\\\"credit_id\\\": \\\"5990427f925141672302ba00\\\", \\\"department\\\": \\\"Directing\\\", \\\"gender\\\": 0, \\\"id\\\": 6187, \\\"job\\\": \\\"First Assistant Director\\\", \\\"name\\\": \\\"Aldric La'Auli Porter\\\"}, {\\\"credit_id\\\": \\\"58dd0efdc3a368228300b438\\\", \\\"department\\\": \\\"Art\\\", \\\"gender\\\": 2, \\\"id\\\": 6877, \\\"job\\\": \\\"Production Design\\\", \\\"name\\\": \\\"William Sandell\\\"}, {\\\"credit_id\\\": \\\"58dd0f56925141411000c340\\\", \\\"department\\\": \\\"Art\\\", \\\"gender\\\": 2, \\\"id\\\": 6880, \\\"job\\\": \\\"Set Decoration\\\", \\\"name\\\": \\\"Robert Gould\\\"}, {\\\"credit_id\\\": \\\"58dd0f1fc3a36822a600c1dd\\\", \\\"department\\\": \\\"Art\\\", \\\"gender\\\": 2, \\\"id\\\": 8705, \\\"job\\\": \\\"Art Direction\\\", \\\"name\\\": \\\"Brad Ricker\\\"}, {\\\"credit_id\\\": \\\"5990490b925141673e02d2f5\\\", \\\"department\\\": \\\"Sound\\\", \\\"gender\\\": 0, \\\"id\\\": 8763, \\\"job\\\": \\\"Foley Editor\\\", \\\"name\\\": \\\"Dan Yale\\\"}, {\\\"credit_id\\\": \\\"58dd0d3192514140f600b915\\\", \\\"department\\\": \\\"Production\\\", \\\"gender\\\": 2, \\\"id\\\": 8880, \\\"job\\\": \\\"Executive Producer\\\", \\\"name\\\": \\\"Neil A. Machlis\\\"}, {\\\"credit_id\\\": \\\"58dd0e0bc3a368229300bdf6\\\", \\\"department\\\": \\\"Production\\\", \\\"gender\\\": 1, \\\"id\\\": 14377, \\\"job\\\": \\\"Casting\\\", \\\"name\\\": \\\"Juel Bestrop\\\"}, {\\\"credit_id\\\": \\\"599045b6925141672302bdac\\\", \\\"department\\\": \\\"Art\\\", \\\"gender\\\": 0, \\\"id\\\": 12639, \\\"job\\\": \\\"Set Designer\\\", \\\"name\\\": \\\"Hugo Santiago\\\"}, {\\\"credit_id\\\": \\\"58dd0f69c3a368228300b48f\\\", \\\"department\\\": \\\"Costume & Make-Up\\\", \\\"gender\\\": 1, \\\"id\\\": 15524, \\\"job\\\": \\\"Costume Design\\\", \\\"name\\\": \\\"Ruth E. Carter\\\"}, {\\\"credit_id\\\": \\\"52fe43bb9251416c7501bf9b\\\", \\\"department\\\": \\\"Editing\\\", \\\"gender\\\": 2, \\\"id\\\": 18276, \\\"job\\\": \\\"Editor\\\", \\\"name\\\": \\\"Craig Herring\\\"}, {\\\"credit_id\\\": \\\"58dd0f2f92514140fa00c653\\\", \\\"department\\\": \\\"Art\\\", \\\"gender\\\": 2, \\\"id\\\": 13434, \\\"job\\\": \\\"Supervising Art Director\\\", \\\"name\\\": \\\"Bruce Crone\\\"}, {\\\"credit_id\\\": \\\"59904bcdc3a368744202b9fb\\\", \\\"department\\\": \\\"Visual Effects\\\", \\\"gender\\\": 0, \\\"id\\\": 27100, \\\"job\\\": \\\"Visual Effects Supervisor\\\", \\\"name\\\": \\\"Douglas Smith\\\"}, {\\\"credit_id\\\": \\\"52fe43bb9251416c7501bf7d\\\", \\\"department\\\": \\\"Writing\\\", \\\"gender\\\": 2, \\\"id\\\": 31026, \\\"job\\\": \\\"Screenplay\\\", \\\"name\\\": \\\"Larry Levin\\\"}, {\\\"credit_id\\\": \\\"58dd0c8592514140fa00c441\\\", \\\"department\\\": \\\"Production\\\", \\\"gender\\\": 1, \\\"id\\\": 49907, \\\"job\\\": \\\"Co-Producer\\\", \\\"name\\\": \\\"Michele Imperato\\\"}, {\\\"credit_id\\\": \\\"58dd0fb0c3a368227300bfad\\\", \\\"department\\\": \\\"Production\\\", \\\"gender\\\": 1, \\\"id\\\": 49907, \\\"job\\\": \\\"Unit Production Manager\\\", \\\"name\\\": \\\"Michele Imperato\\\"}, {\\\"credit_id\\\": \\\"52fe43bb9251416c7501bfb1\\\", \\\"department\\\": \\\"Directing\\\", \\\"gender\\\": 2, \\\"id\\\": 52112, \\\"job\\\": \\\"Director\\\", \\\"name\\\": \\\"Steve Carr\\\"}, {\\\"credit_id\\\": \\\"5990471cc3a36874a302bbdc\\\", \\\"department\\\": \\\"Sound\\\", \\\"gender\\\": 2, \\\"id\\\": 52193, \\\"job\\\": \\\"Dialogue Editor\\\", \\\"name\\\": \\\"R.J. Kizer\\\"}, {\\\"credit_id\\\": \\\"52fe43bb9251416c7501bf95\\\", \\\"department\\\": \\\"Camera\\\", \\\"gender\\\": 2, \\\"id\\\": 56324, \\\"job\\\": \\\"Director of Photography\\\", \\\"name\\\": \\\"Daryn Okada\\\"}, {\\\"credit_id\\\": \\\"52fe43bb9251416c7501bf89\\\", \\\"department\\\": \\\"Production\\\", \\\"gender\\\": 2, \\\"id\\\": 56053, \\\"job\\\": \\\"Producer\\\", \\\"name\\\": \\\"Joseph Singer\\\"}, {\\\"credit_id\\\": \\\"59904a06925141676602b701\\\", \\\"department\\\": \\\"Crew\\\", \\\"gender\\\": 2, \\\"id\\\": 57769, \\\"job\\\": \\\"Visual Effects Editor\\\", \\\"name\\\": \\\"Peter S. Elliot\\\"}, {\\\"credit_id\\\": \\\"58dd0d4c92514140fa00c4da\\\", \\\"department\\\": \\\"Production\\\", \\\"gender\\\": 1, \\\"id\\\": 66921, \\\"job\\\": \\\"Co-Producer\\\", \\\"name\\\": \\\"Heidi Santelli\\\"}, {\\\"credit_id\\\": \\\"59905155c3a36874b402a906\\\", \\\"department\\\": \\\"Sound\\\", \\\"gender\\\": 0, \\\"id\\\": 91324, \\\"job\\\": \\\"Music Editor\\\", \\\"name\\\": \\\"Tom Villano\\\"}, {\\\"credit_id\\\": \\\"5990424a925141676602adf3\\\", \\\"department\\\": \\\"Costume & Make-Up\\\", \\\"gender\\\": 0, \\\"id\\\": 168214, \\\"job\\\": \\\"Makeup Artist\\\", \\\"name\\\": \\\"Judy Murdock\\\"}, {\\\"credit_id\\\": \\\"59904eae925141673e02da30\\\", \\\"department\\\": \\\"Camera\\\", \\\"gender\\\": 2, \\\"id\\\": 555085, \\\"job\\\": \\\"Still Photographer\\\", \\\"name\\\": \\\"Bruce McBroom\\\"}, {\\\"credit_id\\\": \\\"599041d0c3a36874a302b5e9\\\", \\\"department\\\": \\\"Costume & Make-Up\\\", \\\"gender\\\": 0, \\\"id\\\": 1015965, \\\"job\\\": \\\"Makeup Department Head\\\", \\\"name\\\": \\\"Kris Evans\\\"}, {\\\"credit_id\\\": \\\"58dd11a2c3a368227300c14b\\\", \\\"department\\\": \\\"Production\\\", \\\"gender\\\": 0, \\\"id\\\": 1113659, \\\"job\\\": \\\"Location Manager\\\", \\\"name\\\": \\\"Iddo Lampton Enochs Jr.\\\"}, {\\\"credit_id\\\": \\\"59904b71925141675f02b7e7\\\", \\\"department\\\": \\\"Crew\\\", \\\"gender\\\": 0, \\\"id\\\": 1178615, \\\"job\\\": \\\"CG Supervisor\\\", \\\"name\\\": \\\"Liz Radley\\\"}, {\\\"credit_id\\\": \\\"59904fe5c3a368744202bf0c\\\", \\\"department\\\": \\\"Costume & Make-Up\\\", \\\"gender\\\": 0, \\\"id\\\": 1319193, \\\"job\\\": \\\"Costume Supervisor\\\", \\\"name\\\": \\\"Donna Marcione Pollack\\\"}, {\\\"credit_id\\\": \\\"599044c4925141672302bc97\\\", \\\"department\\\": \\\"Art\\\", \\\"gender\\\": 0, \\\"id\\\": 1364403, \\\"job\\\": \\\"Greensman\\\", \\\"name\\\": \\\"Frank McEldowney\\\"}, {\\\"credit_id\\\": \\\"59904694925141673e02cfd2\\\", \\\"department\\\": \\\"Sound\\\", \\\"gender\\\": 0, \\\"id\\\": 1367505, \\\"job\\\": \\\"Dialogue Editor\\\", \\\"name\\\": \\\"Ted Caplan\\\"}, {\\\"credit_id\\\": \\\"5990439d925141675902ac1b\\\", \\\"department\\\": \\\"Art\\\", \\\"gender\\\": 0, \\\"id\\\": 1377216, \\\"job\\\": \\\"Art Department Coordinator\\\", \\\"name\\\": \\\"Gerald Lehtola\\\"}, {\\\"credit_id\\\": \\\"599045fb925141675f02b16c\\\", \\\"department\\\": \\\"Art\\\", \\\"gender\\\": 0, \\\"id\\\": 1378165, \\\"job\\\": \\\"Property Master\\\", \\\"name\\\": \\\"Mark Wade\\\"}, {\\\"credit_id\\\": \\\"58dd0fd0c3a368228a00abfb\\\", \\\"department\\\": \\\"Art\\\", \\\"gender\\\": 1, \\\"id\\\": 1378749, \\\"job\\\": \\\"Set Designer\\\", \\\"name\\\": \\\"Patricia Klawonn\\\"}, {\\\"credit_id\\\": \\\"58dd1023c3a368227300c025\\\", \\\"department\\\": \\\"Art\\\", \\\"gender\\\": 0, \\\"id\\\": 1389585, \\\"job\\\": \\\"Set Designer\\\", \\\"name\\\": \\\"Bill Taliaferro\\\"}, {\\\"credit_id\\\": \\\"59904785c3a3687493029126\\\", \\\"department\\\": \\\"Sound\\\", \\\"gender\\\": 0, \\\"id\\\": 1390527, \\\"job\\\": \\\"Sound Effects Editor\\\", \\\"name\\\": \\\"Dave Kulczycki\\\"}, {\\\"credit_id\\\": \\\"59905010925141675f02bd38\\\", \\\"department\\\": \\\"Costume & Make-Up\\\", \\\"gender\\\": 0, \\\"id\\\": 1399322, \\\"job\\\": \\\"Set Costumer\\\", \\\"name\\\": \\\"Elizabeth Frank\\\"}, {\\\"credit_id\\\": \\\"59904d81925141670b02cf99\\\", \\\"department\\\": \\\"Camera\\\", \\\"gender\\\": 2, \\\"id\\\": 1400374, \\\"job\\\": \\\"Camera Operator\\\", \\\"name\\\": \\\"Casey Hotchkiss\\\"}, {\\\"credit_id\\\": \\\"599046d2c3a3687493029074\\\", \\\"department\\\": \\\"Sound\\\", \\\"gender\\\": 0, \\\"id\\\": 1404841, \\\"job\\\": \\\"ADR Editor\\\", \\\"name\\\": \\\"Zack Davis\\\"}, {\\\"credit_id\\\": \\\"59904214c3a368746102979f\\\", \\\"department\\\": \\\"Costume & Make-Up\\\", \\\"gender\\\": 0, \\\"id\\\": 1408278, \\\"job\\\": \\\"Hair Department Head\\\", \\\"name\\\": \\\"Erma Kent\\\"}, {\\\"credit_id\\\": \\\"599048b2925141670b02c97f\\\", \\\"department\\\": \\\"Sound\\\", \\\"gender\\\": 0, \\\"id\\\": 1416153, \\\"job\\\": \\\"Supervising Sound Editor\\\", \\\"name\\\": \\\"Donald Sylvester\\\"}, {\\\"credit_id\\\": \\\"59904ad6c3a36874b402a1cc\\\", \\\"department\\\": \\\"Visual Effects\\\", \\\"gender\\\": 0, \\\"id\\\": 1416167, \\\"job\\\": \\\"Visual Effects Producer\\\", \\\"name\\\": \\\"John Kilkenny\\\"}, {\\\"credit_id\\\": \\\"56ae7d849251416357002915\\\", \\\"department\\\": \\\"Costume & Make-Up\\\", \\\"gender\\\": 1, \\\"id\\\": 1424894, \\\"job\\\": \\\"Hairstylist\\\", \\\"name\\\": \\\"Camille Friend\\\"}, {\\\"credit_id\\\": \\\"599047ab925141674c02b48e\\\", \\\"department\\\": \\\"Sound\\\", \\\"gender\\\": 0, \\\"id\\\": 1425343, \\\"job\\\": \\\"ADR Editor\\\", \\\"name\\\": \\\"Vanessa Lapato\\\"}, {\\\"credit_id\\\": \\\"59904951925141673902ae4e\\\", \\\"department\\\": \\\"Crew\\\", \\\"gender\\\": 0, \\\"id\\\": 1442509, \\\"job\\\": \\\"Special Effects Coordinator\\\", \\\"name\\\": \\\"Alan E. Lorimer\\\"}, {\\\"credit_id\\\": \\\"59904427925141675902acc6\\\", \\\"department\\\": \\\"Art\\\", \\\"gender\\\": 0, \\\"id\\\": 1451398, \\\"job\\\": \\\"Greensman\\\", \\\"name\\\": \\\"Bryan McBrien\\\"}, {\\\"credit_id\\\": \\\"59904629c3a368744202b2d6\\\", \\\"department\\\": \\\"Art\\\", \\\"gender\\\": 0, \\\"id\\\": 1453276, \\\"job\\\": \\\"Construction Coordinator\\\", \\\"name\\\": \\\"Butch West\\\"}, {\\\"credit_id\\\": \\\"599034bcc3a3687493027d17\\\", \\\"department\\\": \\\"Crew\\\", \\\"gender\\\": 2, \\\"id\\\": 1454647, \\\"job\\\": \\\"Creator\\\", \\\"name\\\": \\\"Hugh Lofting\\\"}, {\\\"credit_id\\\": \\\"58dd11f1c3a36822ae00bc75\\\", \\\"department\\\": \\\"Directing\\\", \\\"gender\\\": 1, \\\"id\\\": 1457729, \\\"job\\\": \\\"Script Supervisor\\\", \\\"name\\\": \\\"Nancy Karlin\\\"}, {\\\"credit_id\\\": \\\"59904a8d925141675f02b6d8\\\", \\\"department\\\": \\\"Visual Effects\\\", \\\"gender\\\": 0, \\\"id\\\": 1496418, \\\"job\\\": \\\"Visual Effects Coordinator\\\", \\\"name\\\": \\\"Mitchell Ferm\\\"}, {\\\"credit_id\\\": \\\"599050e6925141674c02beef\\\", \\\"department\\\": \\\"Sound\\\", \\\"gender\\\": 2, \\\"id\\\": 1550058, \\\"job\\\": \\\"Music Editor\\\", \\\"name\\\": \\\"Jim Harrison\\\"}, {\\\"credit_id\\\": \\\"58dd11b0c3a368223e00b7db\\\", \\\"department\\\": \\\"Art\\\", \\\"gender\\\": 0, \\\"id\\\": 1585159, \\\"job\\\": \\\"Location Scout\\\", \\\"name\\\": \\\"Jasan Sherman\\\"}, {\\\"credit_id\\\": \\\"5990453a925141673902a8ec\\\", \\\"department\\\": \\\"Art\\\", \\\"gender\\\": 0, \\\"id\\\": 1586888, \\\"job\\\": \\\"Sculptor\\\", \\\"name\\\": \\\"Thomas Meikle\\\"}, {\\\"credit_id\\\": \\\"5990506dc3a368747302c6e3\\\", \\\"department\\\": \\\"Sound\\\", \\\"gender\\\": 0, \\\"id\\\": 1587383, \\\"job\\\": \\\"Music Supervisor\\\", \\\"name\\\": \\\"Spring Aspers\\\"}, {\\\"credit_id\\\": \\\"59904fbb925141672302c9ed\\\", \\\"department\\\": \\\"Costume & Make-Up\\\", \\\"gender\\\": 0, \\\"id\\\": 1610228, \\\"job\\\": \\\"Key Costumer\\\", \\\"name\\\": \\\"Craig Anthony\\\"}, {\\\"credit_id\\\": \\\"599047e3925141674c02b4cf\\\", \\\"department\\\": \\\"Sound\\\", \\\"gender\\\": 2, \\\"id\\\": 1737829, \\\"job\\\": \\\"Boom Operator\\\", \\\"name\\\": \\\"Harrison D. Marsh\\\"}, {\\\"credit_id\\\": \\\"58dd10b2c3a368228300b588\\\", \\\"department\\\": \\\"Production\\\", \\\"gender\\\": 1, \\\"id\\\": 1763970, \\\"job\\\": \\\"Casting Assistant\\\", \\\"name\\\": \\\"Nadia Lubbe Simon\\\"}, {\\\"credit_id\\\": \\\"58dd1052925141413c00beac\\\", \\\"department\\\": \\\"Production\\\", \\\"gender\\\": 1, \\\"id\\\": 1786614, \\\"job\\\": \\\"Casting Associate\\\", \\\"name\\\": \\\"Diana Jaher\\\"}, {\\\"credit_id\\\": \\\"58dd11d5c3a368229d00b6a0\\\", \\\"department\\\": \\\"Production\\\", \\\"gender\\\": 0, \\\"id\\\": 1786616, \\\"job\\\": \\\"Location Manager\\\", \\\"name\\\": \\\"Craig W. van Gundy\\\"}, {\\\"credit_id\\\": \\\"58dd1254c3a368227300c1e6\\\", \\\"department\\\": \\\"Production\\\", \\\"gender\\\": 1, \\\"id\\\": 1786618, \\\"job\\\": \\\"Production Coordinator\\\", \\\"name\\\": \\\"Kris Fullan Martinez\\\"}, {\\\"credit_id\\\": \\\"599042f4c3a368744202aefa\\\", \\\"department\\\": \\\"Art\\\", \\\"gender\\\": 0, \\\"id\\\": 1868861, \\\"job\\\": \\\"Painter\\\", \\\"name\\\": \\\"Joe A. Hawthorne\\\"}, {\\\"credit_id\\\": \\\"5990448e925141675f02afa7\\\", \\\"department\\\": \\\"Crew\\\", \\\"gender\\\": 0, \\\"id\\\": 1868865, \\\"job\\\": \\\"Propmaker\\\", \\\"name\\\": \\\"Robert McDonald\\\"}, {\\\"credit_id\\\": \\\"59904571925141670b02c572\\\", \\\"department\\\": \\\"Crew\\\", \\\"gender\\\": 0, \\\"id\\\": 1868867, \\\"job\\\": \\\"Propmaker\\\", \\\"name\\\": \\\"Robert Prchal\\\"}, {\\\"credit_id\\\": \\\"599045da925141673902a9d7\\\", \\\"department\\\": \\\"Crew\\\", \\\"gender\\\": 0, \\\"id\\\": 1868868, \\\"job\\\": \\\"Propmaker\\\", \\\"name\\\": \\\"Hal Schlax\\\"}, {\\\"credit_id\\\": \\\"59904c34925141675f02b8bc\\\", \\\"department\\\": \\\"Crew\\\", \\\"gender\\\": 2, \\\"id\\\": 1868877, \\\"job\\\": \\\"Stunt Coordinator\\\", \\\"name\\\": \\\"John Molo\\\"}, {\\\"credit_id\\\": \\\"59904cac925141673e02d7a8\\\", \\\"department\\\": \\\"Camera\\\", \\\"gender\\\": 0, \\\"id\\\": 1868878, \\\"job\\\": \\\"Camera Operator\\\", \\\"name\\\": \\\"Todd Dos Reis\\\"}, {\\\"credit_id\\\": \\\"59904d04925141676602ba9a\\\", \\\"department\\\": \\\"Camera\\\", \\\"gender\\\": 0, \\\"id\\\": 1868879, \\\"job\\\": \\\"Dolly Grip\\\", \\\"name\\\": \\\"Jason D. Hodges\\\"}, {\\\"credit_id\\\": \\\"59904d3bc3a36874b402a4b0\\\", \\\"department\\\": \\\"Camera\\\", \\\"gender\\\": 0, \\\"id\\\": 1868880, \\\"job\\\": \\\"Key Grip\\\", \\\"name\\\": \\\"Mike Hodges\\\"}, {\\\"credit_id\\\": \\\"59904df0925141672302c7da\\\", \\\"department\\\": \\\"Lighting\\\", \\\"gender\\\": 0, \\\"id\\\": 1868881, \\\"job\\\": \\\"Gaffer\\\", \\\"name\\\": \\\"Kal Manning\\\"}, {\\\"credit_id\\\": \\\"59904ede925141675f02bbe6\\\", \\\"department\\\": \\\"Camera\\\", \\\"gender\\\": 0, \\\"id\\\": 1868889, \\\"job\\\": \\\"Dolly Grip\\\", \\\"name\\\": \\\"Larry McCarron\\\"}, {\\\"credit_id\\\": \\\"59905109925141673e02dcde\\\", \\\"department\\\": \\\"Sound\\\", \\\"gender\\\": 0, \\\"id\\\": 1868892, \\\"job\\\": \\\"Music Editor\\\", \\\"name\\\": \\\"Kim Strand\\\"}]\",\n          \"[{\\\"credit_id\\\": \\\"52fe44479251416c7502f0c3\\\", \\\"department\\\": \\\"Sound\\\", \\\"gender\\\": 2, \\\"id\\\": 20953, \\\"job\\\": \\\"Original Music Composer\\\", \\\"name\\\": \\\"Harry Manfredini\\\"}, {\\\"credit_id\\\": \\\"534a8875c3a3682df60016a4\\\", \\\"department\\\": \\\"Production\\\", \\\"gender\\\": 0, \\\"id\\\": 23545, \\\"job\\\": \\\"Casting\\\", \\\"name\\\": \\\"Robin D. Cook\\\"}, {\\\"credit_id\\\": \\\"52fe44479251416c7502f0ed\\\", \\\"department\\\": \\\"Production\\\", \\\"gender\\\": 2, \\\"id\\\": 35475, \\\"job\\\": \\\"Executive Producer\\\", \\\"name\\\": \\\"Sean S. Cunningham\\\"}, {\\\"credit_id\\\": \\\"52fe44479251416c7502f0cf\\\", \\\"department\\\": \\\"Camera\\\", \\\"gender\\\": 2, \\\"id\\\": 55642, \\\"job\\\": \\\"Director of Photography\\\", \\\"name\\\": \\\"Derick V. Underschultz\\\"}, {\\\"credit_id\\\": \\\"52fe44479251416c7502f0b7\\\", \\\"department\\\": \\\"Writing\\\", \\\"gender\\\": 2, \\\"id\\\": 61117, \\\"job\\\": \\\"Screenplay\\\", \\\"name\\\": \\\"Todd Farmer\\\"}, {\\\"credit_id\\\": \\\"52fe44479251416c7502f0c9\\\", \\\"department\\\": \\\"Editing\\\", \\\"gender\\\": 2, \\\"id\\\": 64748, \\\"job\\\": \\\"Editor\\\", \\\"name\\\": \\\"David Handman\\\"}, {\\\"credit_id\\\": \\\"52fe44479251416c7502f0b1\\\", \\\"department\\\": \\\"Directing\\\", \\\"gender\\\": 2, \\\"id\\\": 69579, \\\"job\\\": \\\"Director\\\", \\\"name\\\": \\\"James Isaac\\\"}, {\\\"credit_id\\\": \\\"52fe44479251416c7502f0bd\\\", \\\"department\\\": \\\"Production\\\", \\\"gender\\\": 2, \\\"id\\\": 69585, \\\"job\\\": \\\"Producer\\\", \\\"name\\\": \\\"Noel Cunningham\\\"}, {\\\"credit_id\\\": \\\"534a888cc3a3682df60016a8\\\", \\\"department\\\": \\\"Costume & Make-Up\\\", \\\"gender\\\": 0, \\\"id\\\": 958703, \\\"job\\\": \\\"Costume Design\\\", \\\"name\\\": \\\"Maxyne Baker\\\"}]\"\n        ],\n        \"semantic_type\": \"\",\n        \"description\": \"\"\n      }\n    },\n    {\n      \"column\": \"cast\",\n      \"properties\": {\n        \"dtype\": \"string\",\n        \"num_unique_values\": 4761,\n        \"samples\": [\n          \"[{\\\"cast_id\\\": 1, \\\"character\\\": \\\"Joshua \\\\\\\"Josh\\\\\\\" Baskin\\\", \\\"credit_id\\\": \\\"52fe4349c3a36847f8048ac3\\\", \\\"gender\\\": 2, \\\"id\\\": 31, \\\"name\\\": \\\"Tom Hanks\\\", \\\"order\\\": 0}, {\\\"cast_id\\\": 2, \\\"character\\\": \\\"Susan\\\", \\\"credit_id\\\": \\\"52fe4349c3a36847f8048ac7\\\", \\\"gender\\\": 1, \\\"id\\\": 20, \\\"name\\\": \\\"Elizabeth Perkins\\\", \\\"order\\\": 1}, {\\\"cast_id\\\": 3, \\\"character\\\": \\\"MacMillan\\\", \\\"credit_id\\\": \\\"52fe4349c3a36847f8048acb\\\", \\\"gender\\\": 2, \\\"id\\\": 1162, \\\"name\\\": \\\"Robert Loggia\\\", \\\"order\\\": 2}, {\\\"cast_id\\\": 4, \\\"character\\\": \\\"Paul\\\", \\\"credit_id\\\": \\\"52fe4349c3a36847f8048acf\\\", \\\"gender\\\": 2, \\\"id\\\": 11512, \\\"name\\\": \\\"John Heard\\\", \\\"order\\\": 3}, {\\\"cast_id\\\": 16, \\\"character\\\": \\\"Billy\\\", \\\"credit_id\\\": \\\"52fe4349c3a36847f8048b11\\\", \\\"gender\\\": 2, \\\"id\\\": 57422, \\\"name\\\": \\\"Jared Rushton\\\", \\\"order\\\": 4}, {\\\"cast_id\\\": 17, \\\"character\\\": \\\"Young Josh\\\", \\\"credit_id\\\": \\\"52fe4349c3a36847f8048b15\\\", \\\"gender\\\": 2, \\\"id\\\": 62123, \\\"name\\\": \\\"David Moscow\\\", \\\"order\\\": 5}, {\\\"cast_id\\\": 5, \\\"character\\\": \\\"Scotty Brennen\\\", \\\"credit_id\\\": \\\"52fe4349c3a36847f8048ad3\\\", \\\"gender\\\": 2, \\\"id\\\": 16165, \\\"name\\\": \\\"Jon Lovitz\\\", \\\"order\\\": 6}, {\\\"cast_id\\\": 6, \\\"character\\\": \\\"Mrs. Baskin\\\", \\\"credit_id\\\": \\\"52fe4349c3a36847f8048ad7\\\", \\\"gender\\\": 1, \\\"id\\\": 2167, \\\"name\\\": \\\"Mercedes Ruehl\\\", \\\"order\\\": 7}, {\\\"cast_id\\\": 18, \\\"character\\\": \\\"Mr. Baskin\\\", \\\"credit_id\\\": \\\"52fe4349c3a36847f8048b19\\\", \\\"gender\\\": 2, \\\"id\\\": 143205, \\\"name\\\": \\\"Josh Clark\\\", \\\"order\\\": 8}, {\\\"cast_id\\\": 22, \\\"character\\\": \\\"Gym Teacher\\\", \\\"credit_id\\\": \\\"52fe4349c3a36847f8048b29\\\", \\\"gender\\\": 2, \\\"id\\\": 123728, \\\"name\\\": \\\"Allan Wasserman\\\", \\\"order\\\": 9}, {\\\"cast_id\\\": 19, \\\"character\\\": \\\"Cynthia Benson\\\", \\\"credit_id\\\": \\\"52fe4349c3a36847f8048b1d\\\", \\\"gender\\\": 0, \\\"id\\\": 1073814, \\\"name\\\": \\\"Kimberlee M. Davis\\\", \\\"order\\\": 10}, {\\\"cast_id\\\": 20, \\\"character\\\": \\\"Freddie Benson\\\", \\\"credit_id\\\": \\\"52fe4349c3a36847f8048b21\\\", \\\"gender\\\": 0, \\\"id\\\": 1073816, \\\"name\\\": \\\"Oliver Block\\\", \\\"order\\\": 11}, {\\\"cast_id\\\": 21, \\\"character\\\": \\\"Cynthia's Friend\\\", \\\"credit_id\\\": \\\"52fe4349c3a36847f8048b25\\\", \\\"gender\\\": 0, \\\"id\\\": 80138, \\\"name\\\": \\\"Erika Katz\\\", \\\"order\\\": 12}, {\\\"cast_id\\\": 23, \\\"character\\\": \\\"Derek\\\", \\\"credit_id\\\": \\\"52fe4349c3a36847f8048b2d\\\", \\\"gender\\\": 2, \\\"id\\\": 166788, \\\"name\\\": \\\"Mark Ballou\\\", \\\"order\\\": 13}, {\\\"cast_id\\\": 24, \\\"character\\\": \\\"Ticket Taker\\\", \\\"credit_id\\\": \\\"52fe4349c3a36847f8048b31\\\", \\\"gender\\\": 0, \\\"id\\\": 994134, \\\"name\\\": \\\"Gary Howard Klar\\\", \\\"order\\\": 14}]\",\n          \"[{\\\"cast_id\\\": 3, \\\"character\\\": \\\"Richard O'Connell\\\", \\\"credit_id\\\": \\\"52fe4312c3a36847f8038407\\\", \\\"gender\\\": 2, \\\"id\\\": 18269, \\\"name\\\": \\\"Brendan Fraser\\\", \\\"order\\\": 0}, {\\\"cast_id\\\": 4, \\\"character\\\": \\\"Evelyn Carnahan O'Connell/Princess Nefertiri\\\", \\\"credit_id\\\": \\\"52fe4312c3a36847f803840b\\\", \\\"gender\\\": 1, \\\"id\\\": 3293, \\\"name\\\": \\\"Rachel Weisz\\\", \\\"order\\\": 1}, {\\\"cast_id\\\": 5, \\\"character\\\": \\\"Jonathan Carnahan\\\", \\\"credit_id\\\": \\\"52fe4312c3a36847f803840f\\\", \\\"gender\\\": 2, \\\"id\\\": 10727, \\\"name\\\": \\\"John Hannah\\\", \\\"order\\\": 2}, {\\\"cast_id\\\": 6, \\\"character\\\": \\\"High Priest Imhotep\\\", \\\"credit_id\\\": \\\"52fe4312c3a36847f8038413\\\", \\\"gender\\\": 2, \\\"id\\\": 16743, \\\"name\\\": \\\"Arnold Vosloo\\\", \\\"order\\\": 3}, {\\\"cast_id\\\": 7, \\\"character\\\": \\\"Ardeth Bay\\\", \\\"credit_id\\\": \\\"52fe4312c3a36847f8038417\\\", \\\"gender\\\": 2, \\\"id\\\": 18041, \\\"name\\\": \\\"Oded Fehr\\\", \\\"order\\\": 4}, {\\\"cast_id\\\": 8, \\\"character\\\": \\\"Mathayus the Scorpion King\\\", \\\"credit_id\\\": \\\"52fe4312c3a36847f803841b\\\", \\\"gender\\\": 2, \\\"id\\\": 18918, \\\"name\\\": \\\"Dwayne Johnson\\\", \\\"order\\\": 5}, {\\\"cast_id\\\": 9, \\\"character\\\": \\\"Alexander O'Connell\\\", \\\"credit_id\\\": \\\"52fe4312c3a36847f803841f\\\", \\\"gender\\\": 2, \\\"id\\\": 18919, \\\"name\\\": \\\"Freddie Boath\\\", \\\"order\\\": 6}, {\\\"cast_id\\\": 10, \\\"character\\\": \\\"Meela Nais/Anck Su Namun\\\", \\\"credit_id\\\": \\\"52fe4312c3a36847f8038423\\\", \\\"gender\\\": 1, \\\"id\\\": 18920, \\\"name\\\": \\\"Patricia Vel\\\\u00e1squez\\\", \\\"order\\\": 7}, {\\\"cast_id\\\": 17, \\\"character\\\": \\\"Baltus Hafez\\\", \\\"credit_id\\\": \\\"52fe4312c3a36847f803844b\\\", \\\"gender\\\": 2, \\\"id\\\": 2629, \\\"name\\\": \\\"Alun Armstrong\\\", \\\"order\\\": 8}, {\\\"cast_id\\\": 18, \\\"character\\\": \\\"Lock-Nah\\\", \\\"credit_id\\\": \\\"52fe4312c3a36847f803844f\\\", \\\"gender\\\": 2, \\\"id\\\": 31164, \\\"name\\\": \\\"Adewale Akinnuoye-Agbaje\\\", \\\"order\\\": 9}, {\\\"cast_id\\\": 19, \\\"character\\\": \\\"Izzy Buttons\\\", \\\"credit_id\\\": \\\"52fe4312c3a36847f8038453\\\", \\\"gender\\\": 2, \\\"id\\\": 30316, \\\"name\\\": \\\"Shaun Parkes\\\", \\\"order\\\": 10}, {\\\"cast_id\\\": 20, \\\"character\\\": \\\"Red\\\", \\\"credit_id\\\": \\\"52fe4312c3a36847f8038457\\\", \\\"gender\\\": 0, \\\"id\\\": 25675, \\\"name\\\": \\\"Bruce Byron\\\", \\\"order\\\": 11}, {\\\"cast_id\\\": 21, \\\"character\\\": \\\"Jacques\\\", \\\"credit_id\\\": \\\"52fe4312c3a36847f803845b\\\", \\\"gender\\\": 0, \\\"id\\\": 1010264, \\\"name\\\": \\\"Joe Dixon\\\", \\\"order\\\": 12}, {\\\"cast_id\\\": 22, \\\"character\\\": \\\"Spivey\\\", \\\"credit_id\\\": \\\"52fe4312c3a36847f803845f\\\", \\\"gender\\\": 2, \\\"id\\\": 208211, \\\"name\\\": \\\"Thomas Fisher\\\", \\\"order\\\": 13}, {\\\"cast_id\\\": 23, \\\"character\\\": \\\"Pharaoh Seti I\\\", \\\"credit_id\\\": \\\"52fe4312c3a36847f8038463\\\", \\\"gender\\\": 2, \\\"id\\\": 25808, \\\"name\\\": \\\"Aharon Ipal\\\\u00e9\\\", \\\"order\\\": 14}, {\\\"cast_id\\\": 24, \\\"character\\\": \\\"Shafek\\\", \\\"credit_id\\\": \\\"52fe4312c3a36847f8038467\\\", \\\"gender\\\": 0, \\\"id\\\": 178631, \\\"name\\\": \\\"Quill Roberts\\\", \\\"order\\\": 15}, {\\\"cast_id\\\": 25, \\\"character\\\": \\\"Showgirl with Jonathan\\\", \\\"credit_id\\\": \\\"52fe4312c3a36847f803846b\\\", \\\"gender\\\": 1, \\\"id\\\": 120886, \\\"name\\\": \\\"Donna Air\\\", \\\"order\\\": 16}, {\\\"cast_id\\\": 26, \\\"character\\\": \\\"Mountain of Flesh\\\", \\\"credit_id\\\": \\\"52fe4312c3a36847f803846f\\\", \\\"gender\\\": 0, \\\"id\\\": 1077874, \\\"name\\\": \\\"Trevor Lovell\\\", \\\"order\\\": 17}, {\\\"cast_id\\\": 30, \\\"character\\\": \\\"Spivey\\\", \\\"credit_id\\\": \\\"536222b20e0a2649a900146a\\\", \\\"gender\\\": 0, \\\"id\\\": 27678, \\\"name\\\": \\\"Tom Fisher\\\", \\\"order\\\": 18}]\",\n          \"[{\\\"cast_id\\\": 2, \\\"character\\\": \\\"Donna Keppel\\\", \\\"credit_id\\\": \\\"52fe44b0c3a36847f80a478f\\\", \\\"gender\\\": 1, \\\"id\\\": 29221, \\\"name\\\": \\\"Brittany Snow\\\", \\\"order\\\": 0}, {\\\"cast_id\\\": 3, \\\"character\\\": \\\"Bobby\\\", \\\"credit_id\\\": \\\"52fe44b0c3a36847f80a4793\\\", \\\"gender\\\": 2, \\\"id\\\": 53368, \\\"name\\\": \\\"Scott Porter\\\", \\\"order\\\": 1}, {\\\"cast_id\\\": 4, \\\"character\\\": \\\"Claire\\\", \\\"credit_id\\\": \\\"52fe44b0c3a36847f80a4797\\\", \\\"gender\\\": 1, \\\"id\\\": 55463, \\\"name\\\": \\\"Jessica Stroup\\\", \\\"order\\\": 2}, {\\\"cast_id\\\": 5, \\\"character\\\": \\\"Lisa Hines\\\", \\\"credit_id\\\": \\\"52fe44b0c3a36847f80a479b\\\", \\\"gender\\\": 1, \\\"id\\\": 39556, \\\"name\\\": \\\"Dana Davis\\\", \\\"order\\\": 3}, {\\\"cast_id\\\": 6, \\\"character\\\": \\\"Michael\\\", \\\"credit_id\\\": \\\"52fe44b0c3a36847f80a479f\\\", \\\"gender\\\": 2, \\\"id\\\": 55464, \\\"name\\\": \\\"Kelly Blatz\\\", \\\"order\\\": 4}, {\\\"cast_id\\\": 7, \\\"character\\\": \\\"Ronnie Heflin\\\", \\\"credit_id\\\": \\\"52fe44b0c3a36847f80a47a3\\\", \\\"gender\\\": 2, \\\"id\\\": 53652, \\\"name\\\": \\\"Collins Pennie\\\", \\\"order\\\": 5}, {\\\"cast_id\\\": 8, \\\"character\\\": \\\"Richard Fenton\\\", \\\"credit_id\\\": \\\"52fe44b0c3a36847f80a47a7\\\", \\\"gender\\\": 2, \\\"id\\\": 51670, \\\"name\\\": \\\"Johnathon Schaech\\\", \\\"order\\\": 6}, {\\\"cast_id\\\": 24, \\\"character\\\": \\\"Detective Winn\\\", \\\"credit_id\\\": \\\"52fe44b0c3a36847f80a47f3\\\", \\\"gender\\\": 2, \\\"id\\\": 17605, \\\"name\\\": \\\"Idris Elba\\\", \\\"order\\\": 7}, {\\\"cast_id\\\": 28, \\\"character\\\": \\\"Dr. Elisha Crowe\\\", \\\"credit_id\\\": \\\"52fe44b0c3a36847f80a4809\\\", \\\"gender\\\": 1, \\\"id\\\": 21702, \\\"name\\\": \\\"Ming-Na Wen\\\", \\\"order\\\": 8}, {\\\"cast_id\\\": 29, \\\"character\\\": \\\"Aunt Karen Turner\\\", \\\"credit_id\\\": \\\"52fe44b0c3a36847f80a480d\\\", \\\"gender\\\": 1, \\\"id\\\": 7523, \\\"name\\\": \\\"Jessalyn Gilsig\\\", \\\"order\\\": 9}, {\\\"cast_id\\\": 30, \\\"character\\\": \\\"Rick Leland\\\", \\\"credit_id\\\": \\\"53e94dbc0e0a2654fd000009\\\", \\\"gender\\\": 2, \\\"id\\\": 34502, \\\"name\\\": \\\"Kellan Lutz\\\", \\\"order\\\": 10}, {\\\"cast_id\\\": 31, \\\"character\\\": \\\"Detective Nash\\\", \\\"credit_id\\\": \\\"53e94e36c3a3687ffa00000e\\\", \\\"gender\\\": 2, \\\"id\\\": 5296, \\\"name\\\": \\\"James Ransone\\\", \\\"order\\\": 11}, {\\\"cast_id\\\": 32, \\\"character\\\": \\\"Ms. Waters\\\", \\\"credit_id\\\": \\\"53e94e940e0a2654fd00001e\\\", \\\"gender\\\": 1, \\\"id\\\": 96554, \\\"name\\\": \\\"Mary Mara\\\", \\\"order\\\": 12}, {\\\"cast_id\\\": 33, \\\"character\\\": \\\"Dancer\\\", \\\"credit_id\\\": \\\"56d207d7c3a3681e4400b3de\\\", \\\"gender\\\": 1, \\\"id\\\": 159913, \\\"name\\\": \\\"Allison Kyler\\\", \\\"order\\\": 13}, {\\\"cast_id\\\": 34, \\\"character\\\": \\\"Officer Hicks\\\", \\\"credit_id\\\": \\\"57dd7339925141784a00050e\\\", \\\"gender\\\": 2, \\\"id\\\": 66560, \\\"name\\\": \\\"Craig Susser\\\", \\\"order\\\": 14}, {\\\"cast_id\\\": 43, \\\"character\\\": \\\"Mrs. Hines\\\", \\\"credit_id\\\": \\\"58c7285fc3a3683dd7001c0d\\\", \\\"gender\\\": 0, \\\"id\\\": 155435, \\\"name\\\": \\\"Valeri Ross\\\", \\\"order\\\": 15}, {\\\"cast_id\\\": 44, \\\"character\\\": \\\"Crissy Lynn\\\", \\\"credit_id\\\": \\\"590c3264c3a36801c60092ea\\\", \\\"gender\\\": 1, \\\"id\\\": 115126, \\\"name\\\": \\\"Brianne Davis\\\", \\\"order\\\": 16}, {\\\"cast_id\\\": 45, \\\"character\\\": \\\"Uncle Jack Turner\\\", \\\"credit_id\\\": \\\"590c32f1c3a36801c60093a5\\\", \\\"gender\\\": 2, \\\"id\\\": 57251, \\\"name\\\": \\\"Linden Ashby\\\", \\\"order\\\": 17}, {\\\"cast_id\\\": 46, \\\"character\\\": \\\"April\\\", \\\"credit_id\\\": \\\"590c336c9251415a8b009abc\\\", \\\"gender\\\": 1, \\\"id\\\": 92856, \\\"name\\\": \\\"Jana Kramer\\\", \\\"order\\\": 18}, {\\\"cast_id\\\": 47, \\\"character\\\": \\\"Taylor\\\", \\\"credit_id\\\": \\\"590c33b49251415a67009232\\\", \\\"gender\\\": 1, \\\"id\\\": 88038, \\\"name\\\": \\\"Rachel Specter\\\", \\\"order\\\": 19}, {\\\"cast_id\\\": 48, \\\"character\\\": \\\"Mrs. Keppel\\\", \\\"credit_id\\\": \\\"590c340a9251415a5e0090fa\\\", \\\"gender\\\": 1, \\\"id\\\": 15010, \\\"name\\\": \\\"Lori Heuring\\\", \\\"order\\\": 20}, {\\\"cast_id\\\": 49, \\\"character\\\": \\\"DJ Tyler\\\", \\\"credit_id\\\": \\\"590c3499c3a3680148009300\\\", \\\"gender\\\": 0, \\\"id\\\": 1627987, \\\"name\\\": \\\"Jay Phillips\\\", \\\"order\\\": 21}, {\\\"cast_id\\\": 61, \\\"character\\\": \\\"Bellhop\\\", \\\"credit_id\\\": \\\"590c397a9251415a8b009fca\\\", \\\"gender\\\": 2, \\\"id\\\": 26852, \\\"name\\\": \\\"Joshua Leonard\\\", \\\"order\\\": 22}]\"\n        ],\n        \"semantic_type\": \"\",\n        \"description\": \"\"\n      }\n    }\n  ]\n}"
            }
          },
          "metadata": {},
          "execution_count": 10
        }
      ],
      "source": [
        "df"
      ]
    },
    {
      "cell_type": "code",
      "execution_count": 11,
      "metadata": {
        "colab": {
          "base_uri": "https://localhost:8080/",
          "height": 165
        },
        "id": "qUjU73eupWCj",
        "outputId": "868d8905-2a76-408f-d1f5-112e8e383c1c"
      },
      "outputs": [
        {
          "output_type": "execute_result",
          "data": {
            "text/plain": [
              "'[{\"cast_id\": 242, \"character\": \"Jake Sully\", \"credit_id\": \"5602a8a7c3a3685532001c9a\", \"gender\": 2, \"id\": 65731, \"name\": \"Sam Worthington\", \"order\": 0}, {\"cast_id\": 3, \"character\": \"Neytiri\", \"credit_id\": \"52fe48009251416c750ac9cb\", \"gender\": 1, \"id\": 8691, \"name\": \"Zoe Saldana\", \"order\": 1}, {\"cast_id\": 25, \"character\": \"Dr. Grace Augustine\", \"credit_id\": \"52fe48009251416c750aca39\", \"gender\": 1, \"id\": 10205, \"name\": \"Sigourney Weaver\", \"order\": 2}, {\"cast_id\": 4, \"character\": \"Col. Quaritch\", \"credit_id\": \"52fe48009251416c750ac9cf\", \"gender\": 2, \"id\": 32747, \"name\": \"Stephen Lang\", \"order\": 3}, {\"cast_id\": 5, \"character\": \"Trudy Chacon\", \"credit_id\": \"52fe48009251416c750ac9d3\", \"gender\": 1, \"id\": 17647, \"name\": \"Michelle Rodriguez\", \"order\": 4}, {\"cast_id\": 8, \"character\": \"Selfridge\", \"credit_id\": \"52fe48009251416c750ac9e1\", \"gender\": 2, \"id\": 1771, \"name\": \"Giovanni Ribisi\", \"order\": 5}, {\"cast_id\": 7, \"character\": \"Norm Spellman\", \"credit_id\": \"52fe48009251416c750ac9dd\", \"gender\": 2, \"id\": 59231, \"name\": \"Joel David Moore\", \"order\": 6}, {\"cast_id\": 9, \"character\": \"Moat\", \"credit_id\": \"52fe48009251416c750ac9e5\", \"gender\": 1, \"id\": 30485, \"name\": \"CCH Pounder\", \"order\": 7}, {\"cast_id\": 11, \"character\": \"Eytukan\", \"credit_id\": \"52fe48009251416c750ac9ed\", \"gender\": 2, \"id\": 15853, \"name\": \"Wes Studi\", \"order\": 8}, {\"cast_id\": 10, \"character\": \"Tsu\\'Tey\", \"credit_id\": \"52fe48009251416c750ac9e9\", \"gender\": 2, \"id\": 10964, \"name\": \"Laz Alonso\", \"order\": 9}, {\"cast_id\": 12, \"character\": \"Dr. Max Patel\", \"credit_id\": \"52fe48009251416c750ac9f1\", \"gender\": 2, \"id\": 95697, \"name\": \"Dileep Rao\", \"order\": 10}, {\"cast_id\": 13, \"character\": \"Lyle Wainfleet\", \"credit_id\": \"52fe48009251416c750ac9f5\", \"gender\": 2, \"id\": 98215, \"name\": \"Matt Gerald\", \"order\": 11}, {\"cast_id\": 32, \"character\": \"Private Fike\", \"credit_id\": \"52fe48009251416c750aca5b\", \"gender\": 2, \"id\": 154153, \"name\": \"Sean Anthony Moran\", \"order\": 12}, {\"cast_id\": 33, \"character\": \"Cryo Vault Med Tech\", \"credit_id\": \"52fe48009251416c750aca5f\", \"gender\": 2, \"id\": 397312, \"name\": \"Jason Whyte\", \"order\": 13}, {\"cast_id\": 34, \"character\": \"Venture Star Crew Chief\", \"credit_id\": \"52fe48009251416c750aca63\", \"gender\": 2, \"id\": 42317, \"name\": \"Scott Lawrence\", \"order\": 14}, {\"cast_id\": 35, \"character\": \"Lock Up Trooper\", \"credit_id\": \"52fe48009251416c750aca67\", \"gender\": 2, \"id\": 986734, \"name\": \"Kelly Kilgour\", \"order\": 15}, {\"cast_id\": 36, \"character\": \"Shuttle Pilot\", \"credit_id\": \"52fe48009251416c750aca6b\", \"gender\": 0, \"id\": 1207227, \"name\": \"James Patrick Pitt\", \"order\": 16}, {\"cast_id\": 37, \"character\": \"Shuttle Co-Pilot\", \"credit_id\": \"52fe48009251416c750aca6f\", \"gender\": 0, \"id\": 1180936, \"name\": \"Sean Patrick Murphy\", \"order\": 17}, {\"cast_id\": 38, \"character\": \"Shuttle Crew Chief\", \"credit_id\": \"52fe48009251416c750aca73\", \"gender\": 2, \"id\": 1019578, \"name\": \"Peter Dillon\", \"order\": 18}, {\"cast_id\": 39, \"character\": \"Tractor Operator / Troupe\", \"credit_id\": \"52fe48009251416c750aca77\", \"gender\": 0, \"id\": 91443, \"name\": \"Kevin Dorman\", \"order\": 19}, {\"cast_id\": 40, \"character\": \"Dragon Gunship Pilot\", \"credit_id\": \"52fe48009251416c750aca7b\", \"gender\": 2, \"id\": 173391, \"name\": \"Kelson Henderson\", \"order\": 20}, {\"cast_id\": 41, \"character\": \"Dragon Gunship Gunner\", \"credit_id\": \"52fe48009251416c750aca7f\", \"gender\": 0, \"id\": 1207236, \"name\": \"David Van Horn\", \"order\": 21}, {\"cast_id\": 42, \"character\": \"Dragon Gunship Navigator\", \"credit_id\": \"52fe48009251416c750aca83\", \"gender\": 0, \"id\": 215913, \"name\": \"Jacob Tomuri\", \"order\": 22}, {\"cast_id\": 43, \"character\": \"Suit #1\", \"credit_id\": \"52fe48009251416c750aca87\", \"gender\": 0, \"id\": 143206, \"name\": \"Michael Blain-Rozgay\", \"order\": 23}, {\"cast_id\": 44, \"character\": \"Suit #2\", \"credit_id\": \"52fe48009251416c750aca8b\", \"gender\": 2, \"id\": 169676, \"name\": \"Jon Curry\", \"order\": 24}, {\"cast_id\": 46, \"character\": \"Ambient Room Tech\", \"credit_id\": \"52fe48009251416c750aca8f\", \"gender\": 0, \"id\": 1048610, \"name\": \"Luke Hawker\", \"order\": 25}, {\"cast_id\": 47, \"character\": \"Ambient Room Tech / Troupe\", \"credit_id\": \"52fe48009251416c750aca93\", \"gender\": 0, \"id\": 42288, \"name\": \"Woody Schultz\", \"order\": 26}, {\"cast_id\": 48, \"character\": \"Horse Clan Leader\", \"credit_id\": \"52fe48009251416c750aca97\", \"gender\": 2, \"id\": 68278, \"name\": \"Peter Mensah\", \"order\": 27}, {\"cast_id\": 49, \"character\": \"Link Room Tech\", \"credit_id\": \"52fe48009251416c750aca9b\", \"gender\": 0, \"id\": 1207247, \"name\": \"Sonia Yee\", \"order\": 28}, {\"cast_id\": 50, \"character\": \"Basketball Avatar / Troupe\", \"credit_id\": \"52fe48009251416c750aca9f\", \"gender\": 1, \"id\": 1207248, \"name\": \"Jahnel Curfman\", \"order\": 29}, {\"cast_id\": 51, \"character\": \"Basketball Avatar\", \"credit_id\": \"52fe48009251416c750acaa3\", \"gender\": 0, \"id\": 89714, \"name\": \"Ilram Choi\", \"order\": 30}, {\"cast_id\": 52, \"character\": \"Na\\'vi Child\", \"credit_id\": \"52fe48009251416c750acaa7\", \"gender\": 0, \"id\": 1207249, \"name\": \"Kyla Warren\", \"order\": 31}, {\"cast_id\": 53, \"character\": \"Troupe\", \"credit_id\": \"52fe48009251416c750acaab\", \"gender\": 0, \"id\": 1207250, \"name\": \"Lisa Roumain\", \"order\": 32}, {\"cast_id\": 54, \"character\": \"Troupe\", \"credit_id\": \"52fe48009251416c750acaaf\", \"gender\": 1, \"id\": 83105, \"name\": \"Debra Wilson\", \"order\": 33}, {\"cast_id\": 57, \"character\": \"Troupe\", \"credit_id\": \"52fe48009251416c750acabb\", \"gender\": 0, \"id\": 1207253, \"name\": \"Chris Mala\", \"order\": 34}, {\"cast_id\": 55, \"character\": \"Troupe\", \"credit_id\": \"52fe48009251416c750acab3\", \"gender\": 0, \"id\": 1207251, \"name\": \"Taylor Kibby\", \"order\": 35}, {\"cast_id\": 56, \"character\": \"Troupe\", \"credit_id\": \"52fe48009251416c750acab7\", \"gender\": 0, \"id\": 1207252, \"name\": \"Jodie Landau\", \"order\": 36}, {\"cast_id\": 58, \"character\": \"Troupe\", \"credit_id\": \"52fe48009251416c750acabf\", \"gender\": 0, \"id\": 1207254, \"name\": \"Julie Lamm\", \"order\": 37}, {\"cast_id\": 59, \"character\": \"Troupe\", \"credit_id\": \"52fe48009251416c750acac3\", \"gender\": 0, \"id\": 1207257, \"name\": \"Cullen B. Madden\", \"order\": 38}, {\"cast_id\": 60, \"character\": \"Troupe\", \"credit_id\": \"52fe48009251416c750acac7\", \"gender\": 0, \"id\": 1207259, \"name\": \"Joseph Brady Madden\", \"order\": 39}, {\"cast_id\": 61, \"character\": \"Troupe\", \"credit_id\": \"52fe48009251416c750acacb\", \"gender\": 0, \"id\": 1207262, \"name\": \"Frankie Torres\", \"order\": 40}, {\"cast_id\": 62, \"character\": \"Troupe\", \"credit_id\": \"52fe48009251416c750acacf\", \"gender\": 1, \"id\": 1158600, \"name\": \"Austin Wilson\", \"order\": 41}, {\"cast_id\": 63, \"character\": \"Troupe\", \"credit_id\": \"52fe48019251416c750acad3\", \"gender\": 1, \"id\": 983705, \"name\": \"Sara Wilson\", \"order\": 42}, {\"cast_id\": 64, \"character\": \"Troupe\", \"credit_id\": \"52fe48019251416c750acad7\", \"gender\": 0, \"id\": 1207263, \"name\": \"Tamica Washington-Miller\", \"order\": 43}, {\"cast_id\": 65, \"character\": \"Op Center Staff\", \"credit_id\": \"52fe48019251416c750acadb\", \"gender\": 1, \"id\": 1145098, \"name\": \"Lucy Briant\", \"order\": 44}, {\"cast_id\": 66, \"character\": \"Op Center Staff\", \"credit_id\": \"52fe48019251416c750acadf\", \"gender\": 2, \"id\": 33305, \"name\": \"Nathan Meister\", \"order\": 45}, {\"cast_id\": 67, \"character\": \"Op Center Staff\", \"credit_id\": \"52fe48019251416c750acae3\", \"gender\": 0, \"id\": 1207264, \"name\": \"Gerry Blair\", \"order\": 46}, {\"cast_id\": 68, \"character\": \"Op Center Staff\", \"credit_id\": \"52fe48019251416c750acae7\", \"gender\": 2, \"id\": 33311, \"name\": \"Matthew Chamberlain\", \"order\": 47}, {\"cast_id\": 69, \"character\": \"Op Center Staff\", \"credit_id\": \"52fe48019251416c750acaeb\", \"gender\": 0, \"id\": 1207265, \"name\": \"Paul Yates\", \"order\": 48}, {\"cast_id\": 70, \"character\": \"Op Center Duty Officer\", \"credit_id\": \"52fe48019251416c750acaef\", \"gender\": 0, \"id\": 1207266, \"name\": \"Wray Wilson\", \"order\": 49}, {\"cast_id\": 71, \"character\": \"Op Center Staff\", \"credit_id\": \"52fe48019251416c750acaf3\", \"gender\": 2, \"id\": 54492, \"name\": \"James Gaylyn\", \"order\": 50}, {\"cast_id\": 72, \"character\": \"Dancer\", \"credit_id\": \"52fe48019251416c750acaf7\", \"gender\": 0, \"id\": 1207267, \"name\": \"Melvin Leno Clark III\", \"order\": 51}, {\"cast_id\": 73, \"character\": \"Dancer\", \"credit_id\": \"52fe48019251416c750acafb\", \"gender\": 0, \"id\": 1207268, \"name\": \"Carvon Futrell\", \"order\": 52}, {\"cast_id\": 74, \"character\": \"Dancer\", \"credit_id\": \"52fe48019251416c750acaff\", \"gender\": 0, \"id\": 1207269, \"name\": \"Brandon Jelkes\", \"order\": 53}, {\"cast_id\": 75, \"character\": \"Dancer\", \"credit_id\": \"52fe48019251416c750acb03\", \"gender\": 0, \"id\": 1207270, \"name\": \"Micah Moch\", \"order\": 54}, {\"cast_id\": 76, \"character\": \"Dancer\", \"credit_id\": \"52fe48019251416c750acb07\", \"gender\": 0, \"id\": 1207271, \"name\": \"Hanniyah Muhammad\", \"order\": 55}, {\"cast_id\": 77, \"character\": \"Dancer\", \"credit_id\": \"52fe48019251416c750acb0b\", \"gender\": 0, \"id\": 1207272, \"name\": \"Christopher Nolen\", \"order\": 56}, {\"cast_id\": 78, \"character\": \"Dancer\", \"credit_id\": \"52fe48019251416c750acb0f\", \"gender\": 0, \"id\": 1207273, \"name\": \"Christa Oliver\", \"order\": 57}, {\"cast_id\": 79, \"character\": \"Dancer\", \"credit_id\": \"52fe48019251416c750acb13\", \"gender\": 0, \"id\": 1207274, \"name\": \"April Marie Thomas\", \"order\": 58}, {\"cast_id\": 80, \"character\": \"Dancer\", \"credit_id\": \"52fe48019251416c750acb17\", \"gender\": 0, \"id\": 1207275, \"name\": \"Bravita A. Threatt\", \"order\": 59}, {\"cast_id\": 81, \"character\": \"Mining Chief (uncredited)\", \"credit_id\": \"52fe48019251416c750acb1b\", \"gender\": 0, \"id\": 1207276, \"name\": \"Colin Bleasdale\", \"order\": 60}, {\"cast_id\": 82, \"character\": \"Veteran Miner (uncredited)\", \"credit_id\": \"52fe48019251416c750acb1f\", \"gender\": 0, \"id\": 107969, \"name\": \"Mike Bodnar\", \"order\": 61}, {\"cast_id\": 83, \"character\": \"Richard (uncredited)\", \"credit_id\": \"52fe48019251416c750acb23\", \"gender\": 0, \"id\": 1207278, \"name\": \"Matt Clayton\", \"order\": 62}, {\"cast_id\": 84, \"character\": \"Nav\\'i (uncredited)\", \"credit_id\": \"52fe48019251416c750acb27\", \"gender\": 1, \"id\": 147898, \"name\": \"Nicole Dionne\", \"order\": 63}, {\"cast_id\": 85, \"character\": \"Trooper (uncredited)\", \"credit_id\": \"52fe48019251416c750acb2b\", \"gender\": 0, \"id\": 1207280, \"name\": \"Jamie Harrison\", \"order\": 64}, {\"cast_id\": 86, \"character\": \"Trooper (uncredited)\", \"credit_id\": \"52fe48019251416c750acb2f\", \"gender\": 0, \"id\": 1207281, \"name\": \"Allan Henry\", \"order\": 65}, {\"cast_id\": 87, \"character\": \"Ground Technician (uncredited)\", \"credit_id\": \"52fe48019251416c750acb33\", \"gender\": 2, \"id\": 1207282, \"name\": \"Anthony Ingruber\", \"order\": 66}, {\"cast_id\": 88, \"character\": \"Flight Crew Mechanic (uncredited)\", \"credit_id\": \"52fe48019251416c750acb37\", \"gender\": 0, \"id\": 1207283, \"name\": \"Ashley Jeffery\", \"order\": 67}, {\"cast_id\": 14, \"character\": \"Samson Pilot\", \"credit_id\": \"52fe48009251416c750ac9f9\", \"gender\": 0, \"id\": 98216, \"name\": \"Dean Knowsley\", \"order\": 68}, {\"cast_id\": 89, \"character\": \"Trooper (uncredited)\", \"credit_id\": \"52fe48019251416c750acb3b\", \"gender\": 0, \"id\": 1201399, \"name\": \"Joseph Mika-Hunt\", \"order\": 69}, {\"cast_id\": 90, \"character\": \"Banshee (uncredited)\", \"credit_id\": \"52fe48019251416c750acb3f\", \"gender\": 0, \"id\": 236696, \"name\": \"Terry Notary\", \"order\": 70}, {\"cast_id\": 91, \"character\": \"Soldier (uncredited)\", \"credit_id\": \"52fe48019251416c750acb43\", \"gender\": 0, \"id\": 1207287, \"name\": \"Kai Pantano\", \"order\": 71}, {\"cast_id\": 92, \"character\": \"Blast Technician (uncredited)\", \"credit_id\": \"52fe48019251416c750acb47\", \"gender\": 0, \"id\": 1207288, \"name\": \"Logan Pithyou\", \"order\": 72}, {\"cast_id\": 93, \"character\": \"Vindum Raah (uncredited)\", \"credit_id\": \"52fe48019251416c750acb4b\", \"gender\": 0, \"id\": 1207289, \"name\": \"Stuart Pollock\", \"order\": 73}, {\"cast_id\": 94, \"character\": \"Hero (uncredited)\", \"credit_id\": \"52fe48019251416c750acb4f\", \"gender\": 0, \"id\": 584868, \"name\": \"Raja\", \"order\": 74}, {\"cast_id\": 95, \"character\": \"Ops Centreworker (uncredited)\", \"credit_id\": \"52fe48019251416c750acb53\", \"gender\": 0, \"id\": 1207290, \"name\": \"Gareth Ruck\", \"order\": 75}, {\"cast_id\": 96, \"character\": \"Engineer (uncredited)\", \"credit_id\": \"52fe48019251416c750acb57\", \"gender\": 0, \"id\": 1062463, \"name\": \"Rhian Sheehan\", \"order\": 76}, {\"cast_id\": 97, \"character\": \"Col. Quaritch\\'s Mech Suit (uncredited)\", \"credit_id\": \"52fe48019251416c750acb5b\", \"gender\": 0, \"id\": 60656, \"name\": \"T. J. Storm\", \"order\": 77}, {\"cast_id\": 98, \"character\": \"Female Marine (uncredited)\", \"credit_id\": \"52fe48019251416c750acb5f\", \"gender\": 0, \"id\": 1207291, \"name\": \"Jodie Taylor\", \"order\": 78}, {\"cast_id\": 99, \"character\": \"Ikran Clan Leader (uncredited)\", \"credit_id\": \"52fe48019251416c750acb63\", \"gender\": 1, \"id\": 1186027, \"name\": \"Alicia Vela-Bailey\", \"order\": 79}, {\"cast_id\": 100, \"character\": \"Geologist (uncredited)\", \"credit_id\": \"52fe48019251416c750acb67\", \"gender\": 0, \"id\": 1207292, \"name\": \"Richard Whiteside\", \"order\": 80}, {\"cast_id\": 101, \"character\": \"Na\\'vi (uncredited)\", \"credit_id\": \"52fe48019251416c750acb6b\", \"gender\": 0, \"id\": 103259, \"name\": \"Nikie Zambo\", \"order\": 81}, {\"cast_id\": 102, \"character\": \"Ambient Room Tech / Troupe\", \"credit_id\": \"52fe48019251416c750acb6f\", \"gender\": 1, \"id\": 42286, \"name\": \"Julene Renee\", \"order\": 82}]'"
            ],
            "application/vnd.google.colaboratory.intrinsic+json": {
              "type": "string"
            }
          },
          "metadata": {},
          "execution_count": 11
        }
      ],
      "source": [
        "df.cast[0]"
      ]
    },
    {
      "cell_type": "code",
      "execution_count": 12,
      "metadata": {
        "id": "-rh1fq6ww1W9"
      },
      "outputs": [],
      "source": [
        "import ast"
      ]
    },
    {
      "cell_type": "code",
      "execution_count": 13,
      "metadata": {
        "id": "K6GFnJ3hwxMl"
      },
      "outputs": [],
      "source": [
        "df.cast=df.cast.apply(ast.literal_eval)\n",
        "df.crew=df.crew.apply(ast.literal_eval)\n",
        "df.genres=df.genres.apply(ast.literal_eval)\n",
        "df.keywords=df.keywords.apply(ast.literal_eval)"
      ]
    },
    {
      "cell_type": "code",
      "execution_count": 14,
      "metadata": {
        "id": "kteO7ArfqxKc"
      },
      "outputs": [],
      "source": [
        "def cast(list):\n",
        "  cast_list=[]\n",
        "  for i in list:\n",
        "    cast_list.append(i['name'])\n",
        "  return cast_list\n",
        "# how did it get name value of every dict\\."
      ]
    },
    {
      "cell_type": "code",
      "execution_count": 15,
      "metadata": {
        "id": "ounE6SItyBPP"
      },
      "outputs": [],
      "source": [
        "def crew(list):\n",
        "  crew_list=[]\n",
        "  for i in list:\n",
        "    if i['job']=='Director':\n",
        "      crew_list.append(i['name'])\n",
        "    if i['job']=='Producer':\n",
        "      crew_list.append(i['name'])\n",
        "  return crew_list"
      ]
    },
    {
      "cell_type": "code",
      "execution_count": 16,
      "metadata": {
        "id": "aGkfyIIJVJ-C"
      },
      "outputs": [],
      "source": [
        "df['crew'] = df['crew'].apply(crew)"
      ]
    },
    {
      "cell_type": "code",
      "execution_count": 17,
      "metadata": {
        "id": "PkVfUNfryFq6"
      },
      "outputs": [],
      "source": [
        "def genres(list):\n",
        "  genres_list=[]\n",
        "  for i in list:\n",
        "    genres_list.append(i['name'])\n",
        "  return genres_list"
      ]
    },
    {
      "cell_type": "code",
      "execution_count": 18,
      "metadata": {
        "id": "KF5CIVS1WiYC"
      },
      "outputs": [],
      "source": [
        "df['genres']=df['genres'].apply(genres)"
      ]
    },
    {
      "cell_type": "code",
      "execution_count": 19,
      "metadata": {
        "id": "4HoBpJ3CyKJZ"
      },
      "outputs": [],
      "source": [
        "def keywords(list):\n",
        "  keywords_list=[]\n",
        "  for i in list:\n",
        "    keywords_list.append(i['name'])\n",
        "  return keywords_list"
      ]
    },
    {
      "cell_type": "code",
      "execution_count": 20,
      "metadata": {
        "collapsed": true,
        "id": "YQtRFNg8yRTg"
      },
      "outputs": [],
      "source": [
        "df['cast'] = df['cast'].apply(cast)\n"
      ]
    },
    {
      "cell_type": "code",
      "execution_count": 21,
      "metadata": {
        "collapsed": true,
        "id": "zf3bFySsWzCD"
      },
      "outputs": [],
      "source": [
        "df['keywords'] = df['keywords'].apply(keywords)\n"
      ]
    },
    {
      "cell_type": "code",
      "execution_count": 22,
      "metadata": {
        "id": "5Q2pMcKxXF0y"
      },
      "outputs": [],
      "source": [
        "df.cast=df.cast.apply(lambda x:[i.replace(' ','') for i in x])"
      ]
    },
    {
      "cell_type": "code",
      "execution_count": 23,
      "metadata": {
        "id": "HXiy0uzqXsEH"
      },
      "outputs": [],
      "source": [
        "df.crew=df.crew.apply(lambda x:[i.replace(' ','') for i in x])"
      ]
    },
    {
      "cell_type": "code",
      "execution_count": 24,
      "metadata": {
        "id": "wkEXF2W-YqgC"
      },
      "outputs": [],
      "source": [
        "df['overview']=df.overview.apply(lambda x:str(x).split(' '))"
      ]
    },
    {
      "cell_type": "code",
      "execution_count": 25,
      "metadata": {
        "id": "e2Klb4b5ZB5m"
      },
      "outputs": [],
      "source": [
        "df['tagline']=df.tagline.apply(lambda x:str(x).split(' '))"
      ]
    },
    {
      "cell_type": "code",
      "execution_count": 26,
      "metadata": {
        "id": "FFH1fyAKfbop"
      },
      "outputs": [],
      "source": [
        "def split(list):\n",
        "  new_list=[]\n",
        "  for i in list:\n",
        "    new_list.extend(i.split(' '))\n",
        "  return new_list"
      ]
    },
    {
      "cell_type": "code",
      "execution_count": 27,
      "metadata": {
        "id": "5D1pH1EqftbM"
      },
      "outputs": [],
      "source": [
        "df['keywords']=df.keywords.apply(split)"
      ]
    },
    {
      "cell_type": "code",
      "execution_count": 28,
      "metadata": {
        "id": "ZZG7JYNrf946"
      },
      "outputs": [],
      "source": [
        "df[\"genres\"]=df.genres.apply(lambda x:[i.replace(' ','') for i in x])"
      ]
    },
    {
      "cell_type": "code",
      "execution_count": 29,
      "metadata": {
        "colab": {
          "base_uri": "https://localhost:8080/",
          "height": 383
        },
        "id": "DiFMEa0YckYZ",
        "outputId": "b80ee61c-834f-4834-b7e6-ce1e9070d908"
      },
      "outputs": [
        {
          "output_type": "execute_result",
          "data": {
            "text/plain": [
              "   movie_id                                        genres  \\\n",
              "0     19995  [Action, Adventure, Fantasy, ScienceFiction]   \n",
              "1       285                  [Adventure, Fantasy, Action]   \n",
              "2    206647                    [Action, Adventure, Crime]   \n",
              "3     49026              [Action, Crime, Drama, Thriller]   \n",
              "\n",
              "                                            keywords  \\\n",
              "0  [culture, clash, future, space, war, space, co...   \n",
              "1  [ocean, drug, abuse, exotic, island, east, ind...   \n",
              "2  [spy, based, on, novel, secret, agent, sequel,...   \n",
              "3  [dc, comics, crime, fighter, terrorist, secret...   \n",
              "\n",
              "                                            overview  \\\n",
              "0  [In, the, 22nd, century,, a, paraplegic, Marin...   \n",
              "1  [Captain, Barbossa,, long, believed, to, be, d...   \n",
              "2  [A, cryptic, message, from, Bond’s, past, send...   \n",
              "3  [Following, the, death, of, District, Attorney...   \n",
              "\n",
              "                                             tagline  \\\n",
              "0                  [Enter, the, World, of, Pandora.]   \n",
              "1  [At, the, end, of, the, world,, the, adventure...   \n",
              "2                        [A, Plan, No, One, Escapes]   \n",
              "3                                [The, Legend, Ends]   \n",
              "\n",
              "                                    title_x  \\\n",
              "0                                    Avatar   \n",
              "1  Pirates of the Caribbean: At World's End   \n",
              "2                                   Spectre   \n",
              "3                     The Dark Knight Rises   \n",
              "\n",
              "                                                crew  \\\n",
              "0            [JamesCameron, JamesCameron, JonLandau]   \n",
              "1  [GoreVerbinski, JerryBruckheimer, EricMcLeod, ...   \n",
              "2      [SamMendes, BarbaraBroccoli, MichaelG.Wilson]   \n",
              "3  [CharlesRoven, ChristopherNolan, ChristopherNo...   \n",
              "\n",
              "                                                cast  \n",
              "0  [SamWorthington, ZoeSaldana, SigourneyWeaver, ...  \n",
              "1  [JohnnyDepp, OrlandoBloom, KeiraKnightley, Ste...  \n",
              "2  [DanielCraig, ChristophWaltz, LéaSeydoux, Ralp...  \n",
              "3  [ChristianBale, MichaelCaine, GaryOldman, Anne...  "
            ],
            "text/html": [
              "\n",
              "  <div id=\"df-e60de4bc-1ac0-4c70-9ebf-0887ed872ea5\" class=\"colab-df-container\">\n",
              "    <div>\n",
              "<style scoped>\n",
              "    .dataframe tbody tr th:only-of-type {\n",
              "        vertical-align: middle;\n",
              "    }\n",
              "\n",
              "    .dataframe tbody tr th {\n",
              "        vertical-align: top;\n",
              "    }\n",
              "\n",
              "    .dataframe thead th {\n",
              "        text-align: right;\n",
              "    }\n",
              "</style>\n",
              "<table border=\"1\" class=\"dataframe\">\n",
              "  <thead>\n",
              "    <tr style=\"text-align: right;\">\n",
              "      <th></th>\n",
              "      <th>movie_id</th>\n",
              "      <th>genres</th>\n",
              "      <th>keywords</th>\n",
              "      <th>overview</th>\n",
              "      <th>tagline</th>\n",
              "      <th>title_x</th>\n",
              "      <th>crew</th>\n",
              "      <th>cast</th>\n",
              "    </tr>\n",
              "  </thead>\n",
              "  <tbody>\n",
              "    <tr>\n",
              "      <th>0</th>\n",
              "      <td>19995</td>\n",
              "      <td>[Action, Adventure, Fantasy, ScienceFiction]</td>\n",
              "      <td>[culture, clash, future, space, war, space, co...</td>\n",
              "      <td>[In, the, 22nd, century,, a, paraplegic, Marin...</td>\n",
              "      <td>[Enter, the, World, of, Pandora.]</td>\n",
              "      <td>Avatar</td>\n",
              "      <td>[JamesCameron, JamesCameron, JonLandau]</td>\n",
              "      <td>[SamWorthington, ZoeSaldana, SigourneyWeaver, ...</td>\n",
              "    </tr>\n",
              "    <tr>\n",
              "      <th>1</th>\n",
              "      <td>285</td>\n",
              "      <td>[Adventure, Fantasy, Action]</td>\n",
              "      <td>[ocean, drug, abuse, exotic, island, east, ind...</td>\n",
              "      <td>[Captain, Barbossa,, long, believed, to, be, d...</td>\n",
              "      <td>[At, the, end, of, the, world,, the, adventure...</td>\n",
              "      <td>Pirates of the Caribbean: At World's End</td>\n",
              "      <td>[GoreVerbinski, JerryBruckheimer, EricMcLeod, ...</td>\n",
              "      <td>[JohnnyDepp, OrlandoBloom, KeiraKnightley, Ste...</td>\n",
              "    </tr>\n",
              "    <tr>\n",
              "      <th>2</th>\n",
              "      <td>206647</td>\n",
              "      <td>[Action, Adventure, Crime]</td>\n",
              "      <td>[spy, based, on, novel, secret, agent, sequel,...</td>\n",
              "      <td>[A, cryptic, message, from, Bond’s, past, send...</td>\n",
              "      <td>[A, Plan, No, One, Escapes]</td>\n",
              "      <td>Spectre</td>\n",
              "      <td>[SamMendes, BarbaraBroccoli, MichaelG.Wilson]</td>\n",
              "      <td>[DanielCraig, ChristophWaltz, LéaSeydoux, Ralp...</td>\n",
              "    </tr>\n",
              "    <tr>\n",
              "      <th>3</th>\n",
              "      <td>49026</td>\n",
              "      <td>[Action, Crime, Drama, Thriller]</td>\n",
              "      <td>[dc, comics, crime, fighter, terrorist, secret...</td>\n",
              "      <td>[Following, the, death, of, District, Attorney...</td>\n",
              "      <td>[The, Legend, Ends]</td>\n",
              "      <td>The Dark Knight Rises</td>\n",
              "      <td>[CharlesRoven, ChristopherNolan, ChristopherNo...</td>\n",
              "      <td>[ChristianBale, MichaelCaine, GaryOldman, Anne...</td>\n",
              "    </tr>\n",
              "  </tbody>\n",
              "</table>\n",
              "</div>\n",
              "    <div class=\"colab-df-buttons\">\n",
              "\n",
              "  <div class=\"colab-df-container\">\n",
              "    <button class=\"colab-df-convert\" onclick=\"convertToInteractive('df-e60de4bc-1ac0-4c70-9ebf-0887ed872ea5')\"\n",
              "            title=\"Convert this dataframe to an interactive table.\"\n",
              "            style=\"display:none;\">\n",
              "\n",
              "  <svg xmlns=\"http://www.w3.org/2000/svg\" height=\"24px\" viewBox=\"0 -960 960 960\">\n",
              "    <path d=\"M120-120v-720h720v720H120Zm60-500h600v-160H180v160Zm220 220h160v-160H400v160Zm0 220h160v-160H400v160ZM180-400h160v-160H180v160Zm440 0h160v-160H620v160ZM180-180h160v-160H180v160Zm440 0h160v-160H620v160Z\"/>\n",
              "  </svg>\n",
              "    </button>\n",
              "\n",
              "  <style>\n",
              "    .colab-df-container {\n",
              "      display:flex;\n",
              "      gap: 12px;\n",
              "    }\n",
              "\n",
              "    .colab-df-convert {\n",
              "      background-color: #E8F0FE;\n",
              "      border: none;\n",
              "      border-radius: 50%;\n",
              "      cursor: pointer;\n",
              "      display: none;\n",
              "      fill: #1967D2;\n",
              "      height: 32px;\n",
              "      padding: 0 0 0 0;\n",
              "      width: 32px;\n",
              "    }\n",
              "\n",
              "    .colab-df-convert:hover {\n",
              "      background-color: #E2EBFA;\n",
              "      box-shadow: 0px 1px 2px rgba(60, 64, 67, 0.3), 0px 1px 3px 1px rgba(60, 64, 67, 0.15);\n",
              "      fill: #174EA6;\n",
              "    }\n",
              "\n",
              "    .colab-df-buttons div {\n",
              "      margin-bottom: 4px;\n",
              "    }\n",
              "\n",
              "    [theme=dark] .colab-df-convert {\n",
              "      background-color: #3B4455;\n",
              "      fill: #D2E3FC;\n",
              "    }\n",
              "\n",
              "    [theme=dark] .colab-df-convert:hover {\n",
              "      background-color: #434B5C;\n",
              "      box-shadow: 0px 1px 3px 1px rgba(0, 0, 0, 0.15);\n",
              "      filter: drop-shadow(0px 1px 2px rgba(0, 0, 0, 0.3));\n",
              "      fill: #FFFFFF;\n",
              "    }\n",
              "  </style>\n",
              "\n",
              "    <script>\n",
              "      const buttonEl =\n",
              "        document.querySelector('#df-e60de4bc-1ac0-4c70-9ebf-0887ed872ea5 button.colab-df-convert');\n",
              "      buttonEl.style.display =\n",
              "        google.colab.kernel.accessAllowed ? 'block' : 'none';\n",
              "\n",
              "      async function convertToInteractive(key) {\n",
              "        const element = document.querySelector('#df-e60de4bc-1ac0-4c70-9ebf-0887ed872ea5');\n",
              "        const dataTable =\n",
              "          await google.colab.kernel.invokeFunction('convertToInteractive',\n",
              "                                                    [key], {});\n",
              "        if (!dataTable) return;\n",
              "\n",
              "        const docLinkHtml = 'Like what you see? Visit the ' +\n",
              "          '<a target=\"_blank\" href=https://colab.research.google.com/notebooks/data_table.ipynb>data table notebook</a>'\n",
              "          + ' to learn more about interactive tables.';\n",
              "        element.innerHTML = '';\n",
              "        dataTable['output_type'] = 'display_data';\n",
              "        await google.colab.output.renderOutput(dataTable, element);\n",
              "        const docLink = document.createElement('div');\n",
              "        docLink.innerHTML = docLinkHtml;\n",
              "        element.appendChild(docLink);\n",
              "      }\n",
              "    </script>\n",
              "  </div>\n",
              "\n",
              "\n",
              "    <div id=\"df-aef44546-3153-4bc6-8046-6ab5238fcdd6\">\n",
              "      <button class=\"colab-df-quickchart\" onclick=\"quickchart('df-aef44546-3153-4bc6-8046-6ab5238fcdd6')\"\n",
              "                title=\"Suggest charts\"\n",
              "                style=\"display:none;\">\n",
              "\n",
              "<svg xmlns=\"http://www.w3.org/2000/svg\" height=\"24px\"viewBox=\"0 0 24 24\"\n",
              "     width=\"24px\">\n",
              "    <g>\n",
              "        <path d=\"M19 3H5c-1.1 0-2 .9-2 2v14c0 1.1.9 2 2 2h14c1.1 0 2-.9 2-2V5c0-1.1-.9-2-2-2zM9 17H7v-7h2v7zm4 0h-2V7h2v10zm4 0h-2v-4h2v4z\"/>\n",
              "    </g>\n",
              "</svg>\n",
              "      </button>\n",
              "\n",
              "<style>\n",
              "  .colab-df-quickchart {\n",
              "      --bg-color: #E8F0FE;\n",
              "      --fill-color: #1967D2;\n",
              "      --hover-bg-color: #E2EBFA;\n",
              "      --hover-fill-color: #174EA6;\n",
              "      --disabled-fill-color: #AAA;\n",
              "      --disabled-bg-color: #DDD;\n",
              "  }\n",
              "\n",
              "  [theme=dark] .colab-df-quickchart {\n",
              "      --bg-color: #3B4455;\n",
              "      --fill-color: #D2E3FC;\n",
              "      --hover-bg-color: #434B5C;\n",
              "      --hover-fill-color: #FFFFFF;\n",
              "      --disabled-bg-color: #3B4455;\n",
              "      --disabled-fill-color: #666;\n",
              "  }\n",
              "\n",
              "  .colab-df-quickchart {\n",
              "    background-color: var(--bg-color);\n",
              "    border: none;\n",
              "    border-radius: 50%;\n",
              "    cursor: pointer;\n",
              "    display: none;\n",
              "    fill: var(--fill-color);\n",
              "    height: 32px;\n",
              "    padding: 0;\n",
              "    width: 32px;\n",
              "  }\n",
              "\n",
              "  .colab-df-quickchart:hover {\n",
              "    background-color: var(--hover-bg-color);\n",
              "    box-shadow: 0 1px 2px rgba(60, 64, 67, 0.3), 0 1px 3px 1px rgba(60, 64, 67, 0.15);\n",
              "    fill: var(--button-hover-fill-color);\n",
              "  }\n",
              "\n",
              "  .colab-df-quickchart-complete:disabled,\n",
              "  .colab-df-quickchart-complete:disabled:hover {\n",
              "    background-color: var(--disabled-bg-color);\n",
              "    fill: var(--disabled-fill-color);\n",
              "    box-shadow: none;\n",
              "  }\n",
              "\n",
              "  .colab-df-spinner {\n",
              "    border: 2px solid var(--fill-color);\n",
              "    border-color: transparent;\n",
              "    border-bottom-color: var(--fill-color);\n",
              "    animation:\n",
              "      spin 1s steps(1) infinite;\n",
              "  }\n",
              "\n",
              "  @keyframes spin {\n",
              "    0% {\n",
              "      border-color: transparent;\n",
              "      border-bottom-color: var(--fill-color);\n",
              "      border-left-color: var(--fill-color);\n",
              "    }\n",
              "    20% {\n",
              "      border-color: transparent;\n",
              "      border-left-color: var(--fill-color);\n",
              "      border-top-color: var(--fill-color);\n",
              "    }\n",
              "    30% {\n",
              "      border-color: transparent;\n",
              "      border-left-color: var(--fill-color);\n",
              "      border-top-color: var(--fill-color);\n",
              "      border-right-color: var(--fill-color);\n",
              "    }\n",
              "    40% {\n",
              "      border-color: transparent;\n",
              "      border-right-color: var(--fill-color);\n",
              "      border-top-color: var(--fill-color);\n",
              "    }\n",
              "    60% {\n",
              "      border-color: transparent;\n",
              "      border-right-color: var(--fill-color);\n",
              "    }\n",
              "    80% {\n",
              "      border-color: transparent;\n",
              "      border-right-color: var(--fill-color);\n",
              "      border-bottom-color: var(--fill-color);\n",
              "    }\n",
              "    90% {\n",
              "      border-color: transparent;\n",
              "      border-bottom-color: var(--fill-color);\n",
              "    }\n",
              "  }\n",
              "</style>\n",
              "\n",
              "      <script>\n",
              "        async function quickchart(key) {\n",
              "          const quickchartButtonEl =\n",
              "            document.querySelector('#' + key + ' button');\n",
              "          quickchartButtonEl.disabled = true;  // To prevent multiple clicks.\n",
              "          quickchartButtonEl.classList.add('colab-df-spinner');\n",
              "          try {\n",
              "            const charts = await google.colab.kernel.invokeFunction(\n",
              "                'suggestCharts', [key], {});\n",
              "          } catch (error) {\n",
              "            console.error('Error during call to suggestCharts:', error);\n",
              "          }\n",
              "          quickchartButtonEl.classList.remove('colab-df-spinner');\n",
              "          quickchartButtonEl.classList.add('colab-df-quickchart-complete');\n",
              "        }\n",
              "        (() => {\n",
              "          let quickchartButtonEl =\n",
              "            document.querySelector('#df-aef44546-3153-4bc6-8046-6ab5238fcdd6 button');\n",
              "          quickchartButtonEl.style.display =\n",
              "            google.colab.kernel.accessAllowed ? 'block' : 'none';\n",
              "        })();\n",
              "      </script>\n",
              "    </div>\n",
              "\n",
              "    </div>\n",
              "  </div>\n"
            ],
            "application/vnd.google.colaboratory.intrinsic+json": {
              "type": "dataframe",
              "variable_name": "df",
              "summary": "{\n  \"name\": \"df\",\n  \"rows\": 4803,\n  \"fields\": [\n    {\n      \"column\": \"movie_id\",\n      \"properties\": {\n        \"dtype\": \"number\",\n        \"std\": 88694,\n        \"min\": 5,\n        \"max\": 459488,\n        \"num_unique_values\": 4803,\n        \"samples\": [\n          8427,\n          13006,\n          18041\n        ],\n        \"semantic_type\": \"\",\n        \"description\": \"\"\n      }\n    },\n    {\n      \"column\": \"genres\",\n      \"properties\": {\n        \"dtype\": \"object\",\n        \"semantic_type\": \"\",\n        \"description\": \"\"\n      }\n    },\n    {\n      \"column\": \"keywords\",\n      \"properties\": {\n        \"dtype\": \"object\",\n        \"semantic_type\": \"\",\n        \"description\": \"\"\n      }\n    },\n    {\n      \"column\": \"overview\",\n      \"properties\": {\n        \"dtype\": \"object\",\n        \"semantic_type\": \"\",\n        \"description\": \"\"\n      }\n    },\n    {\n      \"column\": \"tagline\",\n      \"properties\": {\n        \"dtype\": \"object\",\n        \"semantic_type\": \"\",\n        \"description\": \"\"\n      }\n    },\n    {\n      \"column\": \"title_x\",\n      \"properties\": {\n        \"dtype\": \"string\",\n        \"num_unique_values\": 4800,\n        \"samples\": [\n          \"I Spy\",\n          \"Who's Your Caddy?\",\n          \"Sleepover\"\n        ],\n        \"semantic_type\": \"\",\n        \"description\": \"\"\n      }\n    },\n    {\n      \"column\": \"crew\",\n      \"properties\": {\n        \"dtype\": \"object\",\n        \"semantic_type\": \"\",\n        \"description\": \"\"\n      }\n    },\n    {\n      \"column\": \"cast\",\n      \"properties\": {\n        \"dtype\": \"object\",\n        \"semantic_type\": \"\",\n        \"description\": \"\"\n      }\n    }\n  ]\n}"
            }
          },
          "metadata": {},
          "execution_count": 29
        }
      ],
      "source": [
        "df.head(4)"
      ]
    },
    {
      "cell_type": "code",
      "execution_count": 30,
      "metadata": {
        "id": "JbbCpDsnh9Ua"
      },
      "outputs": [],
      "source": [
        "df['tags']=df.overview+df.tagline+df.genres+df.keywords+df.cast+df.crew"
      ]
    },
    {
      "cell_type": "code",
      "execution_count": 31,
      "metadata": {
        "id": "wDEEIQBQjBCS"
      },
      "outputs": [],
      "source": [
        "df.drop(columns=['overview','tagline','genres','keywords','cast','crew'], inplace=True)"
      ]
    },
    {
      "cell_type": "code",
      "execution_count": 32,
      "metadata": {
        "id": "GhW4XVwplQk6"
      },
      "outputs": [],
      "source": [
        "df['tags']=df.tags.apply(lambda x:' '.join(x))"
      ]
    },
    {
      "cell_type": "code",
      "execution_count": 33,
      "metadata": {
        "colab": {
          "base_uri": "https://localhost:8080/"
        },
        "id": "kZptuThv0QAU",
        "outputId": "802bc57f-ef76-47ec-e3bb-51f232f648ce"
      },
      "outputs": [
        {
          "output_type": "stream",
          "name": "stdout",
          "text": [
            "Requirement already satisfied: nltk in /usr/local/lib/python3.12/dist-packages (3.9.1)\n",
            "Requirement already satisfied: click in /usr/local/lib/python3.12/dist-packages (from nltk) (8.3.0)\n",
            "Requirement already satisfied: joblib in /usr/local/lib/python3.12/dist-packages (from nltk) (1.5.2)\n",
            "Requirement already satisfied: regex>=2021.8.3 in /usr/local/lib/python3.12/dist-packages (from nltk) (2024.11.6)\n",
            "Requirement already satisfied: tqdm in /usr/local/lib/python3.12/dist-packages (from nltk) (4.67.1)\n"
          ]
        }
      ],
      "source": [
        "pip install nltk"
      ]
    },
    {
      "cell_type": "code",
      "execution_count": 34,
      "metadata": {
        "id": "xHaGqbpA2Nbw"
      },
      "outputs": [],
      "source": [
        "from nltk.stem.porter import PorterStemmer"
      ]
    },
    {
      "cell_type": "code",
      "execution_count": 35,
      "metadata": {
        "id": "n3WddHLM2Yah"
      },
      "outputs": [],
      "source": [
        "ps=PorterStemmer()"
      ]
    },
    {
      "cell_type": "code",
      "execution_count": 36,
      "metadata": {
        "id": "h99vKfYw2w1R"
      },
      "outputs": [],
      "source": [
        "def stem(text):\n",
        "  list_of_words = []\n",
        "  for i in text.split():\n",
        "    list_of_words.append(ps.stem(i))\n",
        "  return \" \".join(list_of_words)"
      ]
    },
    {
      "cell_type": "code",
      "execution_count": 37,
      "metadata": {
        "id": "Wc99H9eU4njS"
      },
      "outputs": [],
      "source": [
        "df.tags=df.tags.apply(stem)"
      ]
    },
    {
      "cell_type": "code",
      "execution_count": 38,
      "metadata": {
        "colab": {
          "base_uri": "https://localhost:8080/",
          "height": 458
        },
        "id": "oZ3ZuYf37DsY",
        "outputId": "c8b8bc82-7f8c-4726-9a07-6c329feb5369"
      },
      "outputs": [
        {
          "output_type": "execute_result",
          "data": {
            "text/plain": [
              "0       in the 22nd century, a parapleg marin is dispa...\n",
              "1       captain barbossa, long believ to be dead, ha c...\n",
              "2       a cryptic messag from bond’ past send him on a...\n",
              "3       follow the death of district attorney harvey d...\n",
              "4       john carter is a war-weary, former militari ca...\n",
              "                              ...                        \n",
              "4798    el mariachi just want to play hi guitar and ca...\n",
              "4799    a newlyw couple' honeymoon is upend by the arr...\n",
              "4800    \"signed, sealed, delivered\" introduc a dedic q...\n",
              "4801    when ambiti new york attorney sam is sent to s...\n",
              "4802    ever sinc the second grade when he first saw h...\n",
              "Name: tags, Length: 4803, dtype: object"
            ],
            "text/html": [
              "<div>\n",
              "<style scoped>\n",
              "    .dataframe tbody tr th:only-of-type {\n",
              "        vertical-align: middle;\n",
              "    }\n",
              "\n",
              "    .dataframe tbody tr th {\n",
              "        vertical-align: top;\n",
              "    }\n",
              "\n",
              "    .dataframe thead th {\n",
              "        text-align: right;\n",
              "    }\n",
              "</style>\n",
              "<table border=\"1\" class=\"dataframe\">\n",
              "  <thead>\n",
              "    <tr style=\"text-align: right;\">\n",
              "      <th></th>\n",
              "      <th>tags</th>\n",
              "    </tr>\n",
              "  </thead>\n",
              "  <tbody>\n",
              "    <tr>\n",
              "      <th>0</th>\n",
              "      <td>in the 22nd century, a parapleg marin is dispa...</td>\n",
              "    </tr>\n",
              "    <tr>\n",
              "      <th>1</th>\n",
              "      <td>captain barbossa, long believ to be dead, ha c...</td>\n",
              "    </tr>\n",
              "    <tr>\n",
              "      <th>2</th>\n",
              "      <td>a cryptic messag from bond’ past send him on a...</td>\n",
              "    </tr>\n",
              "    <tr>\n",
              "      <th>3</th>\n",
              "      <td>follow the death of district attorney harvey d...</td>\n",
              "    </tr>\n",
              "    <tr>\n",
              "      <th>4</th>\n",
              "      <td>john carter is a war-weary, former militari ca...</td>\n",
              "    </tr>\n",
              "    <tr>\n",
              "      <th>...</th>\n",
              "      <td>...</td>\n",
              "    </tr>\n",
              "    <tr>\n",
              "      <th>4798</th>\n",
              "      <td>el mariachi just want to play hi guitar and ca...</td>\n",
              "    </tr>\n",
              "    <tr>\n",
              "      <th>4799</th>\n",
              "      <td>a newlyw couple' honeymoon is upend by the arr...</td>\n",
              "    </tr>\n",
              "    <tr>\n",
              "      <th>4800</th>\n",
              "      <td>\"signed, sealed, delivered\" introduc a dedic q...</td>\n",
              "    </tr>\n",
              "    <tr>\n",
              "      <th>4801</th>\n",
              "      <td>when ambiti new york attorney sam is sent to s...</td>\n",
              "    </tr>\n",
              "    <tr>\n",
              "      <th>4802</th>\n",
              "      <td>ever sinc the second grade when he first saw h...</td>\n",
              "    </tr>\n",
              "  </tbody>\n",
              "</table>\n",
              "<p>4803 rows × 1 columns</p>\n",
              "</div><br><label><b>dtype:</b> object</label>"
            ]
          },
          "metadata": {},
          "execution_count": 38
        }
      ],
      "source": [
        "df.tags"
      ]
    },
    {
      "cell_type": "code",
      "execution_count": 39,
      "metadata": {
        "id": "Q_1QswKtdvyF"
      },
      "outputs": [],
      "source": [
        "from sklearn.feature_extraction.text import CountVectorizer"
      ]
    },
    {
      "cell_type": "code",
      "execution_count": 40,
      "metadata": {
        "id": "wZHcfM9fhZY6"
      },
      "outputs": [],
      "source": [
        "counter=CountVectorizer(max_features=4000, stop_words='english')"
      ]
    },
    {
      "cell_type": "code",
      "execution_count": 41,
      "metadata": {
        "id": "7kbJLJtHjO36"
      },
      "outputs": [],
      "source": [
        "vectors=counter.fit_transform(df.tags).toarray()"
      ]
    },
    {
      "cell_type": "code",
      "execution_count": 42,
      "metadata": {
        "id": "z_bgeCiTRO6M"
      },
      "outputs": [],
      "source": [
        "from sklearn.metrics.pairwise import cosine_similarity"
      ]
    },
    {
      "cell_type": "code",
      "execution_count": 43,
      "metadata": {
        "id": "hv49NzsGRc5i"
      },
      "outputs": [],
      "source": [
        "similarity=cosine_similarity(vectors)"
      ]
    },
    {
      "cell_type": "code",
      "execution_count": 44,
      "metadata": {
        "collapsed": true,
        "id": "RSOI-dvPXYXr"
      },
      "outputs": [],
      "source": [
        "indexed_list=[]\n",
        "for i in similarity:\n",
        "  movie=[]\n",
        "  for index,j in enumerate(i):\n",
        "    movie.append((index,float(j)))\n",
        "  indexed_list.append(movie)\n"
      ]
    },
    {
      "cell_type": "code",
      "source": [
        "df.head(2)"
      ],
      "metadata": {
        "colab": {
          "base_uri": "https://localhost:8080/",
          "height": 112
        },
        "id": "hyjVm7qekvsW",
        "outputId": "a0a63b32-57cc-473e-df6c-a7a21c8d6345"
      },
      "execution_count": 46,
      "outputs": [
        {
          "output_type": "execute_result",
          "data": {
            "text/plain": [
              "   movie_id                                   title_x  \\\n",
              "0     19995                                    Avatar   \n",
              "1       285  Pirates of the Caribbean: At World's End   \n",
              "\n",
              "                                                tags  \n",
              "0  in the 22nd century, a parapleg marin is dispa...  \n",
              "1  captain barbossa, long believ to be dead, ha c...  "
            ],
            "text/html": [
              "\n",
              "  <div id=\"df-e5e86044-d5d3-4a63-8786-31ebc7956848\" class=\"colab-df-container\">\n",
              "    <div>\n",
              "<style scoped>\n",
              "    .dataframe tbody tr th:only-of-type {\n",
              "        vertical-align: middle;\n",
              "    }\n",
              "\n",
              "    .dataframe tbody tr th {\n",
              "        vertical-align: top;\n",
              "    }\n",
              "\n",
              "    .dataframe thead th {\n",
              "        text-align: right;\n",
              "    }\n",
              "</style>\n",
              "<table border=\"1\" class=\"dataframe\">\n",
              "  <thead>\n",
              "    <tr style=\"text-align: right;\">\n",
              "      <th></th>\n",
              "      <th>movie_id</th>\n",
              "      <th>title_x</th>\n",
              "      <th>tags</th>\n",
              "    </tr>\n",
              "  </thead>\n",
              "  <tbody>\n",
              "    <tr>\n",
              "      <th>0</th>\n",
              "      <td>19995</td>\n",
              "      <td>Avatar</td>\n",
              "      <td>in the 22nd century, a parapleg marin is dispa...</td>\n",
              "    </tr>\n",
              "    <tr>\n",
              "      <th>1</th>\n",
              "      <td>285</td>\n",
              "      <td>Pirates of the Caribbean: At World's End</td>\n",
              "      <td>captain barbossa, long believ to be dead, ha c...</td>\n",
              "    </tr>\n",
              "  </tbody>\n",
              "</table>\n",
              "</div>\n",
              "    <div class=\"colab-df-buttons\">\n",
              "\n",
              "  <div class=\"colab-df-container\">\n",
              "    <button class=\"colab-df-convert\" onclick=\"convertToInteractive('df-e5e86044-d5d3-4a63-8786-31ebc7956848')\"\n",
              "            title=\"Convert this dataframe to an interactive table.\"\n",
              "            style=\"display:none;\">\n",
              "\n",
              "  <svg xmlns=\"http://www.w3.org/2000/svg\" height=\"24px\" viewBox=\"0 -960 960 960\">\n",
              "    <path d=\"M120-120v-720h720v720H120Zm60-500h600v-160H180v160Zm220 220h160v-160H400v160Zm0 220h160v-160H400v160ZM180-400h160v-160H180v160Zm440 0h160v-160H620v160ZM180-180h160v-160H180v160Zm440 0h160v-160H620v160Z\"/>\n",
              "  </svg>\n",
              "    </button>\n",
              "\n",
              "  <style>\n",
              "    .colab-df-container {\n",
              "      display:flex;\n",
              "      gap: 12px;\n",
              "    }\n",
              "\n",
              "    .colab-df-convert {\n",
              "      background-color: #E8F0FE;\n",
              "      border: none;\n",
              "      border-radius: 50%;\n",
              "      cursor: pointer;\n",
              "      display: none;\n",
              "      fill: #1967D2;\n",
              "      height: 32px;\n",
              "      padding: 0 0 0 0;\n",
              "      width: 32px;\n",
              "    }\n",
              "\n",
              "    .colab-df-convert:hover {\n",
              "      background-color: #E2EBFA;\n",
              "      box-shadow: 0px 1px 2px rgba(60, 64, 67, 0.3), 0px 1px 3px 1px rgba(60, 64, 67, 0.15);\n",
              "      fill: #174EA6;\n",
              "    }\n",
              "\n",
              "    .colab-df-buttons div {\n",
              "      margin-bottom: 4px;\n",
              "    }\n",
              "\n",
              "    [theme=dark] .colab-df-convert {\n",
              "      background-color: #3B4455;\n",
              "      fill: #D2E3FC;\n",
              "    }\n",
              "\n",
              "    [theme=dark] .colab-df-convert:hover {\n",
              "      background-color: #434B5C;\n",
              "      box-shadow: 0px 1px 3px 1px rgba(0, 0, 0, 0.15);\n",
              "      filter: drop-shadow(0px 1px 2px rgba(0, 0, 0, 0.3));\n",
              "      fill: #FFFFFF;\n",
              "    }\n",
              "  </style>\n",
              "\n",
              "    <script>\n",
              "      const buttonEl =\n",
              "        document.querySelector('#df-e5e86044-d5d3-4a63-8786-31ebc7956848 button.colab-df-convert');\n",
              "      buttonEl.style.display =\n",
              "        google.colab.kernel.accessAllowed ? 'block' : 'none';\n",
              "\n",
              "      async function convertToInteractive(key) {\n",
              "        const element = document.querySelector('#df-e5e86044-d5d3-4a63-8786-31ebc7956848');\n",
              "        const dataTable =\n",
              "          await google.colab.kernel.invokeFunction('convertToInteractive',\n",
              "                                                    [key], {});\n",
              "        if (!dataTable) return;\n",
              "\n",
              "        const docLinkHtml = 'Like what you see? Visit the ' +\n",
              "          '<a target=\"_blank\" href=https://colab.research.google.com/notebooks/data_table.ipynb>data table notebook</a>'\n",
              "          + ' to learn more about interactive tables.';\n",
              "        element.innerHTML = '';\n",
              "        dataTable['output_type'] = 'display_data';\n",
              "        await google.colab.output.renderOutput(dataTable, element);\n",
              "        const docLink = document.createElement('div');\n",
              "        docLink.innerHTML = docLinkHtml;\n",
              "        element.appendChild(docLink);\n",
              "      }\n",
              "    </script>\n",
              "  </div>\n",
              "\n",
              "\n",
              "    <div id=\"df-969f7728-f84f-454f-8a08-3596c331b75e\">\n",
              "      <button class=\"colab-df-quickchart\" onclick=\"quickchart('df-969f7728-f84f-454f-8a08-3596c331b75e')\"\n",
              "                title=\"Suggest charts\"\n",
              "                style=\"display:none;\">\n",
              "\n",
              "<svg xmlns=\"http://www.w3.org/2000/svg\" height=\"24px\"viewBox=\"0 0 24 24\"\n",
              "     width=\"24px\">\n",
              "    <g>\n",
              "        <path d=\"M19 3H5c-1.1 0-2 .9-2 2v14c0 1.1.9 2 2 2h14c1.1 0 2-.9 2-2V5c0-1.1-.9-2-2-2zM9 17H7v-7h2v7zm4 0h-2V7h2v10zm4 0h-2v-4h2v4z\"/>\n",
              "    </g>\n",
              "</svg>\n",
              "      </button>\n",
              "\n",
              "<style>\n",
              "  .colab-df-quickchart {\n",
              "      --bg-color: #E8F0FE;\n",
              "      --fill-color: #1967D2;\n",
              "      --hover-bg-color: #E2EBFA;\n",
              "      --hover-fill-color: #174EA6;\n",
              "      --disabled-fill-color: #AAA;\n",
              "      --disabled-bg-color: #DDD;\n",
              "  }\n",
              "\n",
              "  [theme=dark] .colab-df-quickchart {\n",
              "      --bg-color: #3B4455;\n",
              "      --fill-color: #D2E3FC;\n",
              "      --hover-bg-color: #434B5C;\n",
              "      --hover-fill-color: #FFFFFF;\n",
              "      --disabled-bg-color: #3B4455;\n",
              "      --disabled-fill-color: #666;\n",
              "  }\n",
              "\n",
              "  .colab-df-quickchart {\n",
              "    background-color: var(--bg-color);\n",
              "    border: none;\n",
              "    border-radius: 50%;\n",
              "    cursor: pointer;\n",
              "    display: none;\n",
              "    fill: var(--fill-color);\n",
              "    height: 32px;\n",
              "    padding: 0;\n",
              "    width: 32px;\n",
              "  }\n",
              "\n",
              "  .colab-df-quickchart:hover {\n",
              "    background-color: var(--hover-bg-color);\n",
              "    box-shadow: 0 1px 2px rgba(60, 64, 67, 0.3), 0 1px 3px 1px rgba(60, 64, 67, 0.15);\n",
              "    fill: var(--button-hover-fill-color);\n",
              "  }\n",
              "\n",
              "  .colab-df-quickchart-complete:disabled,\n",
              "  .colab-df-quickchart-complete:disabled:hover {\n",
              "    background-color: var(--disabled-bg-color);\n",
              "    fill: var(--disabled-fill-color);\n",
              "    box-shadow: none;\n",
              "  }\n",
              "\n",
              "  .colab-df-spinner {\n",
              "    border: 2px solid var(--fill-color);\n",
              "    border-color: transparent;\n",
              "    border-bottom-color: var(--fill-color);\n",
              "    animation:\n",
              "      spin 1s steps(1) infinite;\n",
              "  }\n",
              "\n",
              "  @keyframes spin {\n",
              "    0% {\n",
              "      border-color: transparent;\n",
              "      border-bottom-color: var(--fill-color);\n",
              "      border-left-color: var(--fill-color);\n",
              "    }\n",
              "    20% {\n",
              "      border-color: transparent;\n",
              "      border-left-color: var(--fill-color);\n",
              "      border-top-color: var(--fill-color);\n",
              "    }\n",
              "    30% {\n",
              "      border-color: transparent;\n",
              "      border-left-color: var(--fill-color);\n",
              "      border-top-color: var(--fill-color);\n",
              "      border-right-color: var(--fill-color);\n",
              "    }\n",
              "    40% {\n",
              "      border-color: transparent;\n",
              "      border-right-color: var(--fill-color);\n",
              "      border-top-color: var(--fill-color);\n",
              "    }\n",
              "    60% {\n",
              "      border-color: transparent;\n",
              "      border-right-color: var(--fill-color);\n",
              "    }\n",
              "    80% {\n",
              "      border-color: transparent;\n",
              "      border-right-color: var(--fill-color);\n",
              "      border-bottom-color: var(--fill-color);\n",
              "    }\n",
              "    90% {\n",
              "      border-color: transparent;\n",
              "      border-bottom-color: var(--fill-color);\n",
              "    }\n",
              "  }\n",
              "</style>\n",
              "\n",
              "      <script>\n",
              "        async function quickchart(key) {\n",
              "          const quickchartButtonEl =\n",
              "            document.querySelector('#' + key + ' button');\n",
              "          quickchartButtonEl.disabled = true;  // To prevent multiple clicks.\n",
              "          quickchartButtonEl.classList.add('colab-df-spinner');\n",
              "          try {\n",
              "            const charts = await google.colab.kernel.invokeFunction(\n",
              "                'suggestCharts', [key], {});\n",
              "          } catch (error) {\n",
              "            console.error('Error during call to suggestCharts:', error);\n",
              "          }\n",
              "          quickchartButtonEl.classList.remove('colab-df-spinner');\n",
              "          quickchartButtonEl.classList.add('colab-df-quickchart-complete');\n",
              "        }\n",
              "        (() => {\n",
              "          let quickchartButtonEl =\n",
              "            document.querySelector('#df-969f7728-f84f-454f-8a08-3596c331b75e button');\n",
              "          quickchartButtonEl.style.display =\n",
              "            google.colab.kernel.accessAllowed ? 'block' : 'none';\n",
              "        })();\n",
              "      </script>\n",
              "    </div>\n",
              "\n",
              "    </div>\n",
              "  </div>\n"
            ],
            "application/vnd.google.colaboratory.intrinsic+json": {
              "type": "dataframe",
              "variable_name": "df",
              "summary": "{\n  \"name\": \"df\",\n  \"rows\": 4803,\n  \"fields\": [\n    {\n      \"column\": \"movie_id\",\n      \"properties\": {\n        \"dtype\": \"number\",\n        \"std\": 88694,\n        \"min\": 5,\n        \"max\": 459488,\n        \"num_unique_values\": 4803,\n        \"samples\": [\n          8427,\n          13006,\n          18041\n        ],\n        \"semantic_type\": \"\",\n        \"description\": \"\"\n      }\n    },\n    {\n      \"column\": \"title_x\",\n      \"properties\": {\n        \"dtype\": \"string\",\n        \"num_unique_values\": 4800,\n        \"samples\": [\n          \"I Spy\",\n          \"Who's Your Caddy?\",\n          \"Sleepover\"\n        ],\n        \"semantic_type\": \"\",\n        \"description\": \"\"\n      }\n    },\n    {\n      \"column\": \"tags\",\n      \"properties\": {\n        \"dtype\": \"string\",\n        \"num_unique_values\": 4803,\n        \"samples\": [\n          \"when the switchblade, the most sophist prototyp stealth fighter creat yet, is stolen from the u.s. government, one of the unit states' top spies, alex scott, is call to action. what he doesn't expect is to get team up with a cocki civilian, world class box champion kelli robinson, on a danger top secret espionag mission. their assignment: use equal part skill and humor, catch arnold gundars, one of the world' most success arm dealers. attitud meet espionage. action adventur comedi thriller budapest kidnap boxer secret agent liber of hostag hostage-tak woman director eddiemurphi owenwilson famkejanssen keithdalla malcolmmcdowel crystallow garycol billmondi lyndaboyd bettythoma bettythoma\",\n          \"in a futurist london, the rise sea level mean that larg area are under feet of water. hauer play a cop who previous lost hi partner to some strang creature. now the creatur is back and it after him. he' seen the future. now he ha to kill it. thriller action horror sciencefict crime flood futurist polic detect rutgerhau kimcattral michaelj.pollard alastairduncan alunarmstrong petepostlethwait ianduri robertaeaton tonysteedman stevenhartley sarastockbridg colinskeap kenbon daveduffi stewartharvey-wilson paulgrayson chrischappel charlottehick morrispaton alanstock jasonwatkin tinashaw tonymaylam lauragregori\",\n          \"on a beauti colleg campus, someth ugli is about to be spread around. a bit of gossip that wa told is start to take a frighten turn. who could it have offend and how far will the person on the other side of the gossip handl the embarrass situation. it can turn you on, or turn on you. drama mysteri thriller colleg suspens gossip rumor social experi joshuajackson jamesmarsden katehudson lenaheadey normanreedu ericbogosian edwardjamesolmo sharonlawr marisacoughlan davisguggenheim\"\n        ],\n        \"semantic_type\": \"\",\n        \"description\": \"\"\n      }\n    }\n  ]\n}"
            }
          },
          "metadata": {},
          "execution_count": 46
        }
      ]
    },
    {
      "cell_type": "code",
      "source": [
        "from google.colab import drive\n",
        "drive.mount('/content/drive')"
      ],
      "metadata": {
        "id": "6OdYk8UbiUge"
      },
      "execution_count": null,
      "outputs": []
    },
    {
      "cell_type": "code",
      "source": [
        "print(df.title_x)"
      ],
      "metadata": {
        "colab": {
          "base_uri": "https://localhost:8080/"
        },
        "collapsed": true,
        "id": "-hUAMtGWlNXH",
        "outputId": "ac0b7b16-5405-4f20-ad4d-42433e5d2315"
      },
      "execution_count": 47,
      "outputs": [
        {
          "output_type": "stream",
          "name": "stdout",
          "text": [
            "0                                         Avatar\n",
            "1       Pirates of the Caribbean: At World's End\n",
            "2                                        Spectre\n",
            "3                          The Dark Knight Rises\n",
            "4                                    John Carter\n",
            "                          ...                   \n",
            "4798                                 El Mariachi\n",
            "4799                                   Newlyweds\n",
            "4800                   Signed, Sealed, Delivered\n",
            "4801                            Shanghai Calling\n",
            "4802                           My Date with Drew\n",
            "Name: title_x, Length: 4803, dtype: object\n"
          ]
        }
      ]
    },
    {
      "cell_type": "code",
      "execution_count": 48,
      "metadata": {
        "id": "-sBXYIuSTZI_"
      },
      "outputs": [],
      "source": [
        "def recommend(movie):\n",
        "  movie_index=df[df.title_x==movie].index[0]\n",
        "  distances=indexed_list[movie_index]\n",
        "  movies_list=sorted(distances,reverse=True,key=lambda x:x[1])[1:11]\n",
        "  movies_names=[]\n",
        "  for i in movies_list:\n",
        "    movies_names.append(df.iloc[i[0]].title_x)\n",
        "  print(movies_names)"
      ]
    },
    {
      "cell_type": "code",
      "source": [
        "recommend(\"Pirates of the Caribbean: At World's End\")"
      ],
      "metadata": {
        "colab": {
          "base_uri": "https://localhost:8080/"
        },
        "id": "ial8bbVLkDGk",
        "outputId": "30266ae7-f9d3-4126-cd58-77f2a406c8eb"
      },
      "execution_count": 49,
      "outputs": [
        {
          "output_type": "stream",
          "name": "stdout",
          "text": [
            "[\"Pirates of the Caribbean: Dead Man's Chest\", 'Pirates of the Caribbean: The Curse of the Black Pearl', 'Pirates of the Caribbean: On Stranger Tides', 'The Indian in the Cupboard', 'Sahara', 'Life of Pi', 'Cast Away', 'Y Tu Mamá También', 'The Pirates! In an Adventure with Scientists!', \"Nim's Island\"]\n"
          ]
        }
      ]
    },
    {
      "cell_type": "code",
      "source": [],
      "metadata": {
        "id": "DaLVl_4ZkGg0"
      },
      "execution_count": 49,
      "outputs": []
    }
  ],
  "metadata": {
    "colab": {
      "provenance": [],
      "authorship_tag": "ABX9TyNL63pVBkQbwooDDulvjt6o",
      "include_colab_link": true
    },
    "kernelspec": {
      "display_name": "Python 3",
      "name": "python3"
    },
    "language_info": {
      "name": "python"
    }
  },
  "nbformat": 4,
  "nbformat_minor": 0
}