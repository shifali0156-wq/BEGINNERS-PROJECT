{
 "cells": [
  {
   "cell_type": "code",
   "execution_count": null,
   "id": "ddabab16",
   "metadata": {},
   "outputs": [
    {
     "ename": "",
     "evalue": "",
     "output_type": "error",
     "traceback": [
      "\u001b[1;31mRunning cells with 'Python 3.12.4' requires the ipykernel package.\n",
      "\u001b[1;31m<a href='command:jupyter.createPythonEnvAndSelectController'>Create a Python Environment</a> with the required packages.\n",
      "\u001b[1;31mOr install 'ipykernel' using the command: '\"c:/Program Files/Python312/python.exe\" -m pip install ipykernel -U --user --force-reinstall'"
     ]
    }
   ],
   "source": [
    "import pandas as pd\n",
    "import numpy as np\n",
    "import matplotlib.pyplot as plt\n",
    "import seaborn as sns"
   ]
  },
  {
   "cell_type": "code",
   "execution_count": null,
   "id": "d3899153",
   "metadata": {},
   "outputs": [],
   "source": [
    "d=pd.read_csv('Housing.csv')"
   ]
  },
  {
   "cell_type": "code",
   "execution_count": null,
   "id": "340fae5a",
   "metadata": {},
   "outputs": [],
   "source": [
    "d.info()"
   ]
  },
  {
   "cell_type": "code",
   "execution_count": null,
   "id": "4d018dc1",
   "metadata": {},
   "outputs": [],
   "source": [
    "d.head(7)"
   ]
  },
  {
   "cell_type": "markdown",
   "id": "195051a4",
   "metadata": {},
   "source": [
    "# converting into numeric data"
   ]
  },
  {
   "cell_type": "code",
   "execution_count": null,
   "id": "37f0c800",
   "metadata": {},
   "outputs": [],
   "source": [
    "map={'yes':1,'no':0}"
   ]
  },
  {
   "cell_type": "code",
   "execution_count": null,
   "id": "9e3e8eb7",
   "metadata": {},
   "outputs": [],
   "source": [
    "d.mainroad=d.mainroad.map(map)\n",
    "d.guestroom=d.guestroom.map(map)\n",
    "d.basement=d.basement.map(map)\n",
    "d.prefarea=d.prefarea.map(map)\n",
    "d.airconditioning=d.airconditioning.map(map)\n",
    "d.hotwaterheating=d.hotwaterheating.map(map)"
   ]
  },
  {
   "cell_type": "code",
   "execution_count": null,
   "id": "3b68d1df",
   "metadata": {},
   "outputs": [],
   "source": [
    "d.furnishingstatus.value_counts()"
   ]
  },
  {
   "cell_type": "code",
   "execution_count": null,
   "id": "bcaaea2b",
   "metadata": {},
   "outputs": [],
   "source": [
    "map2={'semi-furnished':1,'unfurnished':0,\"furnished\":2}"
   ]
  },
  {
   "cell_type": "code",
   "execution_count": null,
   "id": "95889ed4",
   "metadata": {},
   "outputs": [],
   "source": [
    "d.furnishingstatus=d.furnishingstatus.map(map2)"
   ]
  },
  {
   "cell_type": "markdown",
   "id": "be7479a2",
   "metadata": {},
   "source": [
    "# Corelation"
   ]
  },
  {
   "cell_type": "code",
   "execution_count": null,
   "id": "9481f4ba",
   "metadata": {},
   "outputs": [],
   "source": [
    "cor=d.corr()"
   ]
  },
  {
   "cell_type": "code",
   "execution_count": null,
   "id": "619089b6",
   "metadata": {},
   "outputs": [],
   "source": [
    "plt.figure(figsize=(12,7))\n",
    "sns.heatmap(cor,annot=True)"
   ]
  },
  {
   "cell_type": "code",
   "execution_count": null,
   "id": "fd421dd3",
   "metadata": {},
   "outputs": [],
   "source": [
    "sns.pairplot(d)"
   ]
  },
  {
   "cell_type": "markdown",
   "id": "2d24db91",
   "metadata": {},
   "source": [
    "# Training and testing data"
   ]
  },
  {
   "cell_type": "code",
   "execution_count": null,
   "id": "9b8c9308",
   "metadata": {},
   "outputs": [],
   "source": [
    "from sklearn.model_selection import train_test_split"
   ]
  },
  {
   "cell_type": "code",
   "execution_count": null,
   "id": "fbea33f7",
   "metadata": {},
   "outputs": [],
   "source": [
    "d_train,d_test=train_test_split(d,random_state=22,test_size=0.2)"
   ]
  },
  {
   "cell_type": "markdown",
   "id": "78109292",
   "metadata": {},
   "source": [
    "# Training LinearRegression Model"
   ]
  },
  {
   "cell_type": "code",
   "execution_count": null,
   "id": "b72a8cb7",
   "metadata": {},
   "outputs": [],
   "source": [
    "from sklearn.linear_model import LinearRegression"
   ]
  },
  {
   "cell_type": "code",
   "execution_count": null,
   "id": "8cb2639d",
   "metadata": {},
   "outputs": [],
   "source": [
    "model=LinearRegression()"
   ]
  },
  {
   "cell_type": "code",
   "execution_count": null,
   "id": "3af6c9a8",
   "metadata": {},
   "outputs": [],
   "source": [
    "train_input=d_train[['area','bathrooms','bedrooms','stories','basement','mainroad','guestroom','airconditioning','parking','prefarea','furnishingstatus']]\n",
    "train_target=d_train['price']\n",
    "model.fit(train_input,train_target)"
   ]
  },
  {
   "cell_type": "code",
   "execution_count": null,
   "id": "698933f8",
   "metadata": {},
   "outputs": [],
   "source": [
    "test_input=d_test[['area','bathrooms','bedrooms','stories','basement','mainroad','guestroom','airconditioning','parking','prefarea','furnishingstatus']]\n",
    "test_output=d_test['price']"
   ]
  },
  {
   "cell_type": "code",
   "execution_count": null,
   "id": "e8d13f55",
   "metadata": {},
   "outputs": [],
   "source": [
    "prediction=model.predict(test_input)"
   ]
  },
  {
   "cell_type": "code",
   "execution_count": null,
   "id": "7b80adf2",
   "metadata": {},
   "outputs": [],
   "source": [
    "prediction"
   ]
  },
  {
   "cell_type": "markdown",
   "id": "5fb18e81",
   "metadata": {},
   "source": [
    "# Evaluating Model"
   ]
  },
  {
   "cell_type": "code",
   "execution_count": null,
   "id": "0e7d7ba6",
   "metadata": {},
   "outputs": [],
   "source": [
    "from sklearn.metrics import root_mean_squared_error"
   ]
  },
  {
   "cell_type": "code",
   "execution_count": null,
   "id": "26d1d642",
   "metadata": {},
   "outputs": [],
   "source": [
    "def rmse(x,y):\n",
    "    return root_mean_squared_error(x,y)"
   ]
  },
  {
   "cell_type": "code",
   "execution_count": null,
   "id": "ba5e62ff",
   "metadata": {},
   "outputs": [],
   "source": [
    "loss=rmse(test_output,prediction)\n",
    "print('loss:',loss)"
   ]
  },
  {
   "cell_type": "code",
   "execution_count": null,
   "id": "38410a30",
   "metadata": {},
   "outputs": [],
   "source": [
    "test_output"
   ]
  },
  {
   "cell_type": "code",
   "execution_count": null,
   "id": "e835d26e",
   "metadata": {},
   "outputs": [],
   "source": [
    "d_test"
   ]
  },
  {
   "cell_type": "code",
   "execution_count": null,
   "id": "10ae5b18",
   "metadata": {},
   "outputs": [],
   "source": [
    "sns.scatterplot(y=test_output,x=prediction)"
   ]
  },
  {
   "cell_type": "markdown",
   "id": "5429f363",
   "metadata": {},
   "source": [
    "### This graph shows that model has made poor predictions since the gaph is not a straight line."
   ]
  },
  {
   "cell_type": "code",
   "execution_count": null,
   "id": "20a3ce88",
   "metadata": {},
   "outputs": [],
   "source": [
    "sns.distplot(test_output)"
   ]
  },
  {
   "cell_type": "code",
   "execution_count": null,
   "id": "bc95489b",
   "metadata": {},
   "outputs": [],
   "source": [
    "sns.distplot(x=prediction)\n",
    "plt.show()"
   ]
  },
  {
   "cell_type": "markdown",
   "id": "9cdf7b7b",
   "metadata": {},
   "source": [
    "### There is a significant difference between the actual price graph and the model predicted price graph."
   ]
  }
 ],
 "metadata": {
  "kernelspec": {
   "display_name": "Python 3",
   "language": "python",
   "name": "python3"
  },
  "language_info": {
   "codemirror_mode": {
    "name": "ipython",
    "version": 3
   },
   "file_extension": ".py",
   "mimetype": "text/x-python",
   "name": "python",
   "nbconvert_exporter": "python",
   "pygments_lexer": "ipython3",
   "version": "3.12.7"
  }
 },
 "nbformat": 4,
 "nbformat_minor": 5
}
